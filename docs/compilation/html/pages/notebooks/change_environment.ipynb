{
 "cells": [
  {
   "cell_type": "markdown",
   "metadata": {
    "collapsed": false
   },
   "source": [
    "# Changing an environment registered in Sinergym"
   ]
  },
  {
   "cell_type": "markdown",
   "metadata": {
    "collapsed": true,
    "pycharm": {
     "name": "#%% md\n"
    }
   },
   "source": [
    "As discussed above, Sinergym has a list of available environments that we can call with `gym.make(<environment_id>)` as long as the sinergym package is imported into the python script."
   ]
  },
  {
   "cell_type": "code",
   "execution_count": 1,
   "metadata": {
    "collapsed": false,
    "pycharm": {
     "is_executing": true,
     "name": "#%%\n"
    }
   },
   "outputs": [
    {
     "name": "stderr",
     "output_type": "stream",
     "text": [
      "/usr/local/lib/python3.10/dist-packages/gym/spaces/box.py:73: UserWarning: \u001b[33mWARN: Box bound precision lowered by casting to float32\u001b[0m\n",
      "  logger.warn(\n",
      "[2022-10-06 18:09:17,865] EPLUS_ENV_5Zone-hot-continuous-stochastic-v1_MainThread_ROOT INFO:Updating idf ExternalInterface object if it is not present...\n",
      "[2022-10-06 18:09:17,866] EPLUS_ENV_5Zone-hot-continuous-stochastic-v1_MainThread_ROOT INFO:Updating idf Site:Location and SizingPeriod:DesignDay(s) to weather and ddy file...\n",
      "[2022-10-06 18:09:17,869] EPLUS_ENV_5Zone-hot-continuous-stochastic-v1_MainThread_ROOT INFO:Updating idf OutPut:Variable and variables XML tree model for BVCTB connection.\n",
      "[2022-10-06 18:09:17,873] EPLUS_ENV_5Zone-hot-continuous-stochastic-v1_MainThread_ROOT INFO:Setting up extra configuration in building model if exists...\n",
      "[2022-10-06 18:09:17,874] EPLUS_ENV_5Zone-hot-continuous-stochastic-v1_MainThread_ROOT INFO:Setting up action definition in building model if exists...\n",
      "/usr/local/lib/python3.10/dist-packages/gym/spaces/box.py:73: UserWarning: \u001b[33mWARN: Box bound precision lowered by casting to float32\u001b[0m\n",
      "  logger.warn(\n"
     ]
    }
   ],
   "source": [
    "import gym\n",
    "import numpy as np\n",
    "\n",
    "import sinergym\n",
    "env = gym.make('Eplus-5Zone-hot-continuous-stochastic-v1')"
   ]
  },
  {
   "cell_type": "markdown",
   "metadata": {},
   "source": [
    "These environment IDs have a number of components defined, not only the building design (*IDF*), but also the reward function, the action and observation spaces, the defining variables, etc.\n",
    "\n",
    "If you want a new environment, you can define it from scratch in our [environment list](https://github.com/ugr-sail/sinergym/blob/main/sinergym/__init__.py) and run it locally.\n",
    "\n",
    "Another option (recommended) is to start from one of our environments and change the components you want. You can combine components you want to change obviously.\n",
    "\n",
    "The way to do that is to add in the `gym.make(<environment_id>)` those parameters of the constructor of the *Sinergym* environment we want to change. Let's see what things we can change starting from any environment:"
   ]
  },
  {
   "cell_type": "markdown",
   "metadata": {},
   "source": [
    "## Adding a new reward"
   ]
  },
  {
   "cell_type": "markdown",
   "metadata": {},
   "source": [
    "As mentioned above, simply add the appropriate parameters to `gym.make()` after specifying the environment ID."
   ]
  },
  {
   "cell_type": "code",
   "execution_count": 2,
   "metadata": {
    "collapsed": false,
    "pycharm": {
     "is_executing": true,
     "name": "#%%\n"
    }
   },
   "outputs": [
    {
     "name": "stderr",
     "output_type": "stream",
     "text": [
      "[2022-10-06 18:09:37,387] EPLUS_ENV_5Zone-hot-continuous-v1_MainThread_ROOT INFO:Updating idf ExternalInterface object if it is not present...\n",
      "[2022-10-06 18:09:37,389] EPLUS_ENV_5Zone-hot-continuous-v1_MainThread_ROOT INFO:Updating idf Site:Location and SizingPeriod:DesignDay(s) to weather and ddy file...\n",
      "[2022-10-06 18:09:37,392] EPLUS_ENV_5Zone-hot-continuous-v1_MainThread_ROOT INFO:Updating idf OutPut:Variable and variables XML tree model for BVCTB connection.\n",
      "[2022-10-06 18:09:37,396] EPLUS_ENV_5Zone-hot-continuous-v1_MainThread_ROOT INFO:Setting up extra configuration in building model if exists...\n",
      "[2022-10-06 18:09:37,396] EPLUS_ENV_5Zone-hot-continuous-v1_MainThread_ROOT INFO:Setting up action definition in building model if exists...\n",
      "/usr/local/lib/python3.10/dist-packages/gym/spaces/box.py:73: UserWarning: \u001b[33mWARN: Box bound precision lowered by casting to float32\u001b[0m\n",
      "  logger.warn(\n"
     ]
    }
   ],
   "source": [
    "from sinergym.utils.rewards import LinearReward, ExpReward\n",
    "\n",
    "env = gym.make('Eplus-5Zone-hot-continuous-v1', reward=ExpReward, reward_kwargs={\n",
    "                                                                    'temperature_variable': 'Zone Air Temperature (SPACE1-1)',\n",
    "                                                                    'energy_variable': 'Facility Total HVAC Electricity Demand Rate (Whole Building)',\n",
    "                                                                    'range_comfort_winter': (20.0, 23.5),\n",
    "                                                                    'range_comfort_summer': (23.0, 26.0),\n",
    "                                                                    'energy_weight': 0.1})"
   ]
  },
  {
   "cell_type": "markdown",
   "metadata": {},
   "source": [
    "You have to specify the **reward** class you are going to use in the environment. A reward function class has several parameters that can be specified by user like temperature variables, weights, etc. Depending on the reward function you are using. In order to be able to define it, we have **reward_kwargs** parameter. See [reward documentation](https://ugr-sail.github.io/sinergym/compilation/html/pages/rewards.html) for more information about reward classes and how to create a new one. "
   ]
  },
  {
   "cell_type": "markdown",
   "metadata": {},
   "source": [
    "## Adding other new components to the environment"
   ]
  },
  {
   "cell_type": "markdown",
   "metadata": {},
   "source": [
    "In the same way that we can change the default reward function, as we have done in the second example, \n",
    "it is possible to substitute other default values of the environment ID. \n",
    "\n",
    "You can change the weather file, the number of timesteps an action repeats (default 1), \n",
    "the last n episodes you want to be stored in the Sinergym output folder (default 10), \n",
    "the name of the environment or the variability in stochastic environments:"
   ]
  },
  {
   "cell_type": "code",
   "execution_count": 3,
   "metadata": {},
   "outputs": [
    {
     "name": "stderr",
     "output_type": "stream",
     "text": [
      "[2022-10-06 18:10:01,836] EPLUS_ENV_new_env_name_MainThread_ROOT INFO:Updating idf ExternalInterface object if it is not present...\n",
      "[2022-10-06 18:10:01,838] EPLUS_ENV_new_env_name_MainThread_ROOT INFO:Updating idf Site:Location and SizingPeriod:DesignDay(s) to weather and ddy file...\n",
      "[2022-10-06 18:10:01,841] EPLUS_ENV_new_env_name_MainThread_ROOT INFO:Updating idf OutPut:Variable and variables XML tree model for BVCTB connection.\n",
      "[2022-10-06 18:10:01,843] EPLUS_ENV_new_env_name_MainThread_ROOT INFO:Setting up extra configuration in building model if exists...\n",
      "[2022-10-06 18:10:01,844] EPLUS_ENV_new_env_name_MainThread_ROOT INFO:Setting up action definition in building model if exists...\n",
      "/usr/local/lib/python3.10/dist-packages/gym/spaces/box.py:73: UserWarning: \u001b[33mWARN: Box bound precision lowered by casting to float32\u001b[0m\n",
      "  logger.warn(\n"
     ]
    }
   ],
   "source": [
    "env = gym.make('Eplus-5Zone-cool-continuous-stochastic-v1', \n",
    "                weather_file='ESP_Granada.084190_SWEC.epw',\n",
    "                weather_variability=(1.0,0.0,0.001),\n",
    "                env_name='new_env_name',\n",
    "                act_repeat=4,\n",
    "                max_ep_data_store_num = 20)"
   ]
  },
  {
   "cell_type": "markdown",
   "metadata": {},
   "source": [
    "## Changing observation and action spaces"
   ]
  },
  {
   "cell_type": "markdown",
   "metadata": {},
   "source": [
    "By default, the IDs of the predefined environments in *Sinergym* already have a space of actions and observations set.\n",
    "\n",
    "However, it can be overwritten by a new definition of them. On the one hand, we will have to define the name of the \n",
    "**variables**, and on the other hand, the definition of the **spaces** (and an **action mapping** if it is a discrete environment)."
   ]
  },
  {
   "cell_type": "code",
   "execution_count": 4,
   "metadata": {},
   "outputs": [
    {
     "name": "stderr",
     "output_type": "stream",
     "text": [
      "[2022-10-06 18:10:19,011] EPLUS_ENV_datacenter-cool-discrete-stochastic-v1_MainThread_ROOT INFO:Updating idf ExternalInterface object if it is not present...\n",
      "[2022-10-06 18:10:19,012] EPLUS_ENV_datacenter-cool-discrete-stochastic-v1_MainThread_ROOT INFO:Updating idf Site:Location and SizingPeriod:DesignDay(s) to weather and ddy file...\n",
      "[2022-10-06 18:10:19,014] EPLUS_ENV_datacenter-cool-discrete-stochastic-v1_MainThread_ROOT INFO:Updating idf OutPut:Variable and variables XML tree model for BVCTB connection.\n",
      "[2022-10-06 18:10:19,015] EPLUS_ENV_datacenter-cool-discrete-stochastic-v1_MainThread_ROOT INFO:Setting up extra configuration in building model if exists...\n",
      "[2022-10-06 18:10:19,016] EPLUS_ENV_datacenter-cool-discrete-stochastic-v1_MainThread_ROOT INFO:Setting up action definition in building model if exists...\n",
      "[2022-10-06 18:10:19,018] EPLUS_ENV_datacenter-cool-discrete-stochastic-v1_MainThread_ROOT INFO:Creating new EnergyPlus simulation episode...\n",
      "[2022-10-06 18:10:19,273] EPLUS_ENV_datacenter-cool-discrete-stochastic-v1_MainThread_ROOT INFO:EnergyPlus working directory is in /workspaces/sinergym/examples/Eplus-env-datacenter-cool-discrete-stochastic-v1-res1/Eplus-env-sub_run1\n"
     ]
    },
    {
     "name": "stdout",
     "output_type": "stream",
     "text": [
      "Reward:  -0.29159502277632837 {'timestep': 1, 'time_elapsed': 900, 'year': 1991, 'month': 1, 'day': 1, 'hour': 0, 'total_power': 5831.900455526567, 'total_power_no_units': -0.5831900455526567, 'comfort_penalty': -0.0, 'abs_comfort': 0.0, 'temperatures': [], 'out_temperature': 0.1888836774631626, 'action_': [21, 24]}\n",
      "Reward:  -676.4135995290543 {'timestep': 2976, 'time_elapsed': 2678400, 'year': 1991, 'month': 2, 'day': 1, 'hour': 0, 'total_power': 3327.00075314416, 'total_power_no_units': -0.33270007531441603, 'comfort_penalty': -0.0, 'abs_comfort': 0.0, 'temperatures': [], 'out_temperature': 7.778239481399982, 'action_': [19, 26]}\n",
      "Reward:  -1259.4863582372925 {'timestep': 5664, 'time_elapsed': 5097600, 'year': 1991, 'month': 3, 'day': 1, 'hour': 0, 'total_power': 3200.503261532735, 'total_power_no_units': -0.3200503261532735, 'comfort_penalty': -0.0, 'abs_comfort': 0.0, 'temperatures': [], 'out_temperature': 3.586509529310737, 'action_': [16, 29]}\n",
      "Reward:  -1866.7932555820894 {'timestep': 8640, 'time_elapsed': 7776000, 'year': 1991, 'month': 4, 'day': 1, 'hour': 0, 'total_power': 4265.651425469122, 'total_power_no_units': -0.4265651425469122, 'comfort_penalty': -0.0, 'abs_comfort': 0.0, 'temperatures': [], 'out_temperature': 3.827352173707793, 'action_': [22, 22]}\n",
      "Reward:  -2655.612981811774 {'timestep': 11520, 'time_elapsed': 10368000, 'year': 1991, 'month': 5, 'day': 1, 'hour': 0, 'total_power': 3093.644515526363, 'total_power_no_units': -0.3093644515526363, 'comfort_penalty': -0.0, 'abs_comfort': 0.0, 'temperatures': [], 'out_temperature': 10.82028031171152, 'action_': [15, 30]}\n",
      "Reward:  -3519.049508529975 {'timestep': 14496, 'time_elapsed': 13046400, 'year': 1991, 'month': 6, 'day': 1, 'hour': 0, 'total_power': 6158.435437707371, 'total_power_no_units': -0.6158435437707371, 'comfort_penalty': -0.0, 'abs_comfort': 0.0, 'temperatures': [], 'out_temperature': 10.93528467532385, 'action_': [18, 27]}\n",
      "Reward:  -5034.358489153616 {'timestep': 17376, 'time_elapsed': 15638400, 'year': 1991, 'month': 7, 'day': 1, 'hour': 0, 'total_power': 5269.008555309053, 'total_power_no_units': -0.5269008555309054, 'comfort_penalty': -0.0, 'abs_comfort': 0.0, 'temperatures': [], 'out_temperature': 10.25142055924905, 'action_': [17, 28]}\n",
      "Reward:  -7084.141231390252 {'timestep': 20352, 'time_elapsed': 18316800, 'year': 1991, 'month': 8, 'day': 1, 'hour': 0, 'total_power': 3962.959903637626, 'total_power_no_units': -0.3962959903637626, 'comfort_penalty': -0.0, 'abs_comfort': 0.0, 'temperatures': [], 'out_temperature': 11.531426432978, 'action_': [22, 23]}\n",
      "Reward:  -9441.002827790671 {'timestep': 23328, 'time_elapsed': 20995200, 'year': 1991, 'month': 9, 'day': 1, 'hour': 0, 'total_power': 4829.248758432844, 'total_power_no_units': -0.4829248758432844, 'comfort_penalty': -0.0, 'abs_comfort': 0.0, 'temperatures': [], 'out_temperature': 13.1620496587882, 'action_': [15, 30]}\n",
      "Reward:  -11001.058526751278 {'timestep': 26208, 'time_elapsed': 23587200, 'year': 1991, 'month': 10, 'day': 1, 'hour': 0, 'total_power': 4197.982317049664, 'total_power_no_units': -0.4197982317049664, 'comfort_penalty': -0.0, 'abs_comfort': 0.0, 'temperatures': [], 'out_temperature': 7.828375895064716, 'action_': [20, 25]}\n",
      "Reward:  -11748.253968093431 {'timestep': 29184, 'time_elapsed': 26265600, 'year': 1991, 'month': 11, 'day': 1, 'hour': 0, 'total_power': 2359.177722751746, 'total_power_no_units': -0.2359177722751746, 'comfort_penalty': -0.0, 'abs_comfort': 0.0, 'temperatures': [], 'out_temperature': 6.921044011357645, 'action_': [18, 27]}\n",
      "Reward:  -12365.810251258104 {'timestep': 32064, 'time_elapsed': 28857600, 'year': 1991, 'month': 12, 'day': 1, 'hour': 0, 'total_power': 4570.755399277723, 'total_power_no_units': -0.45707553992777233, 'comfort_penalty': -0.0, 'abs_comfort': 0.0, 'temperatures': [], 'out_temperature': 5.096117233051405, 'action_': [18, 27]}\n",
      "Reward:  -12991.542089507278 {'timestep': 35040, 'time_elapsed': 31536000, 'year': 1992, 'month': 1, 'day': 1, 'hour': 0, 'total_power': 6469.230282828245, 'total_power_no_units': -0.6469230282828246, 'comfort_penalty': -0.0, 'abs_comfort': 0.0, 'temperatures': [], 'out_temperature': -0.2764443090396917, 'action_': [19, 26]}\n",
      "Episode  0 Mean reward:  -0.37076318748597276 Cumulative reward:  -12991.542089507278\n"
     ]
    },
    {
     "name": "stderr",
     "output_type": "stream",
     "text": [
      "[2022-10-06 18:11:14,778] EPLUS_ENV_datacenter-cool-discrete-stochastic-v1_MainThread_ROOT INFO:EnergyPlus simulation closed successfully. \n"
     ]
    }
   ],
   "source": [
    "import gym\n",
    "import numpy as np\n",
    "\n",
    "import sinergym\n",
    "\n",
    "new_observation_variables=[\n",
    "    'Site Outdoor Air Drybulb Temperature(Environment)',\n",
    "    'Site Outdoor Air Relative Humidity(Environment)',\n",
    "    'Site Wind Speed(Environment)',\n",
    "    'Zone Thermal Comfort Fanger Model PPD(East Zone PEOPLE)',\n",
    "    'Zone People Occupant Count(East Zone)',\n",
    "    'People Air Temperature(East Zone PEOPLE)',\n",
    "    'Facility Total HVAC Electricity Demand Rate(Whole Building)'\n",
    "]\n",
    "\n",
    "new_action_variables = [\n",
    "    'Heating_Setpoint_RL',\n",
    "    'Cooling_Setpoint_RL',\n",
    "]\n",
    "\n",
    "new_observation_space = gym.spaces.Box(\n",
    "    low=-5e6,\n",
    "    high=5e6,\n",
    "    shape=(len(new_observation_variables) + 4,),\n",
    "    dtype=np.float32)\n",
    "\n",
    "new_action_mapping = {\n",
    "    0: (15, 30),\n",
    "    1: (16, 29),\n",
    "    2: (17, 28),\n",
    "    3: (18, 27),\n",
    "    4: (19, 26),\n",
    "    5: (20, 25),\n",
    "    6: (21, 24),\n",
    "    7: (22, 23),\n",
    "    8: (22, 22),\n",
    "    9: (21, 21)\n",
    "}\n",
    "\n",
    "new_action_space = gym.spaces.Discrete(10)\n",
    "\n",
    "env = gym.make('Eplus-datacenter-cool-discrete-stochastic-v1', \n",
    "                observation_variables=new_observation_variables,\n",
    "                observation_space=new_observation_space,\n",
    "                action_variables=new_action_variables,\n",
    "                action_mapping=new_action_mapping,\n",
    "                action_space=new_action_space\n",
    "            )\n",
    "\n",
    "\n",
    "for i in range(1):\n",
    "    obs = env.reset()\n",
    "    rewards = []\n",
    "    done = False\n",
    "    current_month = 0\n",
    "    while not done:\n",
    "        a = env.action_space.sample()\n",
    "        obs, reward, done, info = env.step(a)\n",
    "        rewards.append(reward)\n",
    "        if info['month'] != current_month:  # display results every month\n",
    "            current_month = info['month']\n",
    "            print('Reward: ', sum(rewards), info)\n",
    "    print(\n",
    "        'Episode ',\n",
    "        i,\n",
    "        'Mean reward: ',\n",
    "        np.mean(rewards),\n",
    "        'Cumulative reward: ',\n",
    "        sum(rewards))\n",
    "env.close()"
   ]
  },
  {
   "cell_type": "markdown",
   "metadata": {},
   "source": [
    "In case the definition has some inconsistency, such as the *IDF* has not been \n",
    "adapted to the new actions, the spaces do not fit with the variables, the \n",
    "observation variables do not exist, etc. *Sinergym* will display an error.\n",
    "\n",
    "**Action variables** defined must exists in IDF model like external interface.\n",
    "Then, you have two possibilities: \n",
    "\n",
    "- First, you can modify IDF file directly, but it is necessary to update several \n",
    "  components depending in order to connect them to the external interface \n",
    "  (requires knowledge of the building and EnergyPlus).\n",
    "- Second, you can use the **action definition** functionality of *Sinergym* (recommended).\n",
    "  This functionality will modify the IDF file before starting the simulation automatically \n",
    "  based on a simple definition of the components to be replaced by an external control.\n",
    "  See \"updating action definition\" example to learn how to use it.\n"
   ]
  },
  {
   "cell_type": "markdown",
   "metadata": {},
   "source": [
    "## Getting information about building model with Sinergym"
   ]
  },
  {
   "cell_type": "markdown",
   "metadata": {
    "collapsed": true,
    "pycharm": {
     "name": "#%% md\n"
    }
   },
   "source": [
    "Sinergym can get the schedulers information automatically, in a Python dictionary and/or exporting that information in a excel file.\n",
    "This information lets you know what things can be controlled by an external interface in the building.\n",
    "The way to do it is very simple, just load the environment and call a method:"
   ]
  },
  {
   "cell_type": "code",
   "execution_count": 5,
   "metadata": {
    "collapsed": false,
    "pycharm": {
     "is_executing": true,
     "name": "#%%\n"
    }
   },
   "outputs": [
    {
     "name": "stderr",
     "output_type": "stream",
     "text": [
      "[2022-10-06 18:22:19,689] EPLUS_ENV_demo-v1_MainThread_ROOT INFO:Updating idf ExternalInterface object if it is not present...\n",
      "[2022-10-06 18:22:19,690] EPLUS_ENV_demo-v1_MainThread_ROOT INFO:Updating idf Site:Location and SizingPeriod:DesignDay(s) to weather and ddy file...\n",
      "[2022-10-06 18:22:19,693] EPLUS_ENV_demo-v1_MainThread_ROOT INFO:Updating idf OutPut:Variable and variables XML tree model for BVCTB connection.\n",
      "[2022-10-06 18:22:19,695] EPLUS_ENV_demo-v1_MainThread_ROOT INFO:Setting up extra configuration in building model if exists...\n",
      "[2022-10-06 18:22:19,696] EPLUS_ENV_demo-v1_MainThread_ROOT INFO:Setting up action definition in building model if exists...\n"
     ]
    },
    {
     "name": "stdout",
     "output_type": "stream",
     "text": [
      "{'activitysch': {'Type': 'any number'},\n",
      " 'actschd': {'Object1': {'object_field_name': 'activity_level_schedule_name',\n",
      "                         'object_name': 'space1-1 people 1',\n",
      "                         'object_type': 'People'},\n",
      "             'Object2': {'object_field_name': 'activity_level_schedule_name',\n",
      "                         'object_name': 'space2-1 people 1',\n",
      "                         'object_type': 'People'},\n",
      "             'Object3': {'object_field_name': 'activity_level_schedule_name',\n",
      "                         'object_name': 'space3-1 people 1',\n",
      "                         'object_type': 'People'},\n",
      "             'Object4': {'object_field_name': 'activity_level_schedule_name',\n",
      "                         'object_name': 'space4-1 people 1',\n",
      "                         'object_type': 'People'},\n",
      "             'Object5': {'object_field_name': 'activity_level_schedule_name',\n",
      "                         'object_name': 'space5-1 people 1',\n",
      "                         'object_type': 'People'},\n",
      "             'Type': 'any number'},\n",
      " 'airvelocitysch': {'Object1': {'object_field_name': 'air_velocity_schedule_name',\n",
      "                                'object_name': 'space1-1 people 1',\n",
      "                                'object_type': 'People'},\n",
      "                    'Object2': {'object_field_name': 'air_velocity_schedule_name',\n",
      "                                'object_name': 'space2-1 people 1',\n",
      "                                'object_type': 'People'},\n",
      "                    'Object3': {'object_field_name': 'air_velocity_schedule_name',\n",
      "                                'object_name': 'space3-1 people 1',\n",
      "                                'object_type': 'People'},\n",
      "                    'Object4': {'object_field_name': 'air_velocity_schedule_name',\n",
      "                                'object_name': 'space4-1 people 1',\n",
      "                                'object_type': 'People'},\n",
      "                    'Object5': {'object_field_name': 'air_velocity_schedule_name',\n",
      "                                'object_name': 'space5-1 people 1',\n",
      "                                'object_type': 'People'},\n",
      "                    'Type': 'any number'},\n",
      " 'basinheatersched': {'Object1': {'object_field_name': 'basin_heater_operating_schedule_name',\n",
      "                                  'object_name': 'main cooling coil 1',\n",
      "                                  'object_type': 'Coil:Cooling:DX:TwoSpeed'},\n",
      "                      'Type': 'on/off'},\n",
      " 'clg-setp-sch': {'Object1': {'object_field_name': 'cooling_setpoint_temperature_schedule_name',\n",
      "                              'object_name': 'dualsetpoint',\n",
      "                              'object_type': 'ThermostatSetpoint:DualSetpoint'},\n",
      "                  'Object2': {'object_field_name': 'setpoint_temperature_schedule_name',\n",
      "                              'object_name': 'coolingsetpoint',\n",
      "                              'object_type': 'ThermostatSetpoint:SingleCooling'},\n",
      "                  'Type': 'temperature'},\n",
      " 'clothingsch': {'Type': 'any number'},\n",
      " 'coolingcoilavailsched': {'Object1': {'object_field_name': 'availability_schedule_name',\n",
      "                                       'object_name': 'main cooling coil 1',\n",
      "                                       'object_type': 'Coil:Cooling:DX:TwoSpeed'},\n",
      "                           'Object2': {'object_field_name': 'availability_schedule_name',\n",
      "                                       'object_name': 'dx cooling coil system '\n",
      "                                                      '1',\n",
      "                                       'object_type': 'CoilSystem:Cooling:DX'},\n",
      "                           'Type': 'fraction'},\n",
      " 'equip-1': {'Object1': {'object_field_name': 'schedule_name',\n",
      "                         'object_name': 'space1-1 eleceq 1',\n",
      "                         'object_type': 'ElectricEquipment'},\n",
      "             'Object2': {'object_field_name': 'schedule_name',\n",
      "                         'object_name': 'space2-1 eleceq 1',\n",
      "                         'object_type': 'ElectricEquipment'},\n",
      "             'Object3': {'object_field_name': 'schedule_name',\n",
      "                         'object_name': 'space3-1 eleceq 1',\n",
      "                         'object_type': 'ElectricEquipment'},\n",
      "             'Object4': {'object_field_name': 'schedule_name',\n",
      "                         'object_name': 'space4-1 eleceq 1',\n",
      "                         'object_type': 'ElectricEquipment'},\n",
      "             'Object5': {'object_field_name': 'schedule_name',\n",
      "                         'object_name': 'space5-1 eleceq 1',\n",
      "                         'object_type': 'ElectricEquipment'},\n",
      "             'Type': 'fraction'},\n",
      " 'fanavailsched': {'Object1': {'object_field_name': 'schedule_name',\n",
      "                               'object_name': 'vav sys 1 avail',\n",
      "                               'object_type': 'AvailabilityManager:Scheduled'},\n",
      "                   'Object2': {'object_field_name': 'availability_schedule_name',\n",
      "                               'object_name': 'supply fan 1',\n",
      "                               'object_type': 'Fan:VariableVolume'},\n",
      "                   'Type': 'fraction'},\n",
      " 'htg-setp-sch': {'Object1': {'object_field_name': 'heating_setpoint_temperature_schedule_name',\n",
      "                              'object_name': 'dualsetpoint',\n",
      "                              'object_type': 'ThermostatSetpoint:DualSetpoint'},\n",
      "                  'Object2': {'object_field_name': 'setpoint_temperature_schedule_name',\n",
      "                              'object_name': 'heatingsetpoint',\n",
      "                              'object_type': 'ThermostatSetpoint:SingleHeating'},\n",
      "                  'Type': 'temperature'},\n",
      " 'infil-sch': {'Object1': {'object_field_name': 'schedule_name',\n",
      "                           'object_name': 'space1-1 infil 1',\n",
      "                           'object_type': 'ZoneInfiltration:DesignFlowRate'},\n",
      "               'Object2': {'object_field_name': 'schedule_name',\n",
      "                           'object_name': 'space2-1 infil 1',\n",
      "                           'object_type': 'ZoneInfiltration:DesignFlowRate'},\n",
      "               'Object3': {'object_field_name': 'schedule_name',\n",
      "                           'object_name': 'space3-1 infil 1',\n",
      "                           'object_type': 'ZoneInfiltration:DesignFlowRate'},\n",
      "               'Object4': {'object_field_name': 'schedule_name',\n",
      "                           'object_name': 'space4-1 infil 1',\n",
      "                           'object_type': 'ZoneInfiltration:DesignFlowRate'},\n",
      "               'Object5': {'object_field_name': 'schedule_name',\n",
      "                           'object_name': 'space5-1 infil 1',\n",
      "                           'object_type': 'ZoneInfiltration:DesignFlowRate'},\n",
      "               'Type': 'fraction'},\n",
      " 'lights-1': {'Object1': {'object_field_name': 'schedule_name',\n",
      "                          'object_name': 'space1-1 lights 1',\n",
      "                          'object_type': 'Lights'},\n",
      "              'Object2': {'object_field_name': 'schedule_name',\n",
      "                          'object_name': 'space2-1 lights 1',\n",
      "                          'object_type': 'Lights'},\n",
      "              'Object3': {'object_field_name': 'schedule_name',\n",
      "                          'object_name': 'space3-1 lights 1',\n",
      "                          'object_type': 'Lights'},\n",
      "              'Object4': {'object_field_name': 'schedule_name',\n",
      "                          'object_name': 'space4-1 lights 1',\n",
      "                          'object_type': 'Lights'},\n",
      "              'Object5': {'object_field_name': 'schedule_name',\n",
      "                          'object_name': 'space5-1 lights 1',\n",
      "                          'object_type': 'Lights'},\n",
      "              'Type': 'fraction'},\n",
      " 'min oa sched': {'Object1': {'object_field_name': 'minimum_outdoor_air_schedule_name',\n",
      "                              'object_name': 'oa controller 1',\n",
      "                              'object_type': 'Controller:OutdoorAir'},\n",
      "                  'Type': 'fraction'},\n",
      " 'min oarequirements sched': {'Object1': {'object_field_name': 'outdoor_air_schedule_name',\n",
      "                                          'object_name': 'zoneminoarequirements',\n",
      "                                          'object_type': 'DesignSpecification:OutdoorAir'},\n",
      "                              'Type': 'any number'},\n",
      " 'occupy-1': {'Object1': {'object_field_name': 'number_of_people_schedule_name',\n",
      "                          'object_name': 'space1-1 people 1',\n",
      "                          'object_type': 'People'},\n",
      "              'Object2': {'object_field_name': 'number_of_people_schedule_name',\n",
      "                          'object_name': 'space2-1 people 1',\n",
      "                          'object_type': 'People'},\n",
      "              'Object3': {'object_field_name': 'number_of_people_schedule_name',\n",
      "                          'object_name': 'space3-1 people 1',\n",
      "                          'object_type': 'People'},\n",
      "              'Object4': {'object_field_name': 'number_of_people_schedule_name',\n",
      "                          'object_name': 'space4-1 people 1',\n",
      "                          'object_type': 'People'},\n",
      "              'Object5': {'object_field_name': 'number_of_people_schedule_name',\n",
      "                          'object_name': 'space5-1 people 1',\n",
      "                          'object_type': 'People'},\n",
      "              'Type': 'fraction'},\n",
      " 'plenumclg-setp-sch': {'Object1': {'object_field_name': 'setpoint_temperature_schedule_name',\n",
      "                                    'object_name': 'plenumcoolingsetpoint',\n",
      "                                    'object_type': 'ThermostatSetpoint:SingleCooling'},\n",
      "                        'Type': 'temperature'},\n",
      " 'plenumhtg-setp-sch': {'Object1': {'object_field_name': 'setpoint_temperature_schedule_name',\n",
      "                                    'object_name': 'plenumheatingsetpoint',\n",
      "                                    'object_type': 'ThermostatSetpoint:SingleHeating'},\n",
      "                        'Type': 'temperature'},\n",
      " 'reheatcoilavailsched': {'Object1': {'object_field_name': 'availability_schedule_name',\n",
      "                                      'object_name': 'space1-1 vav reheat',\n",
      "                                      'object_type': 'AirTerminal:SingleDuct:VAV:Reheat'},\n",
      "                          'Object10': {'object_field_name': 'availability_schedule_name',\n",
      "                                       'object_name': 'space5-1 zone coil',\n",
      "                                       'object_type': 'Coil:Heating:Electric'},\n",
      "                          'Object11': {'object_field_name': 'availability_schedule_name',\n",
      "                                       'object_name': 'main heating coil 1',\n",
      "                                       'object_type': 'Coil:Heating:Electric'},\n",
      "                          'Object2': {'object_field_name': 'availability_schedule_name',\n",
      "                                      'object_name': 'space2-1 vav reheat',\n",
      "                                      'object_type': 'AirTerminal:SingleDuct:VAV:Reheat'},\n",
      "                          'Object3': {'object_field_name': 'availability_schedule_name',\n",
      "                                      'object_name': 'space3-1 vav reheat',\n",
      "                                      'object_type': 'AirTerminal:SingleDuct:VAV:Reheat'},\n",
      "                          'Object4': {'object_field_name': 'availability_schedule_name',\n",
      "                                      'object_name': 'space4-1 vav reheat',\n",
      "                                      'object_type': 'AirTerminal:SingleDuct:VAV:Reheat'},\n",
      "                          'Object5': {'object_field_name': 'availability_schedule_name',\n",
      "                                      'object_name': 'space5-1 vav reheat',\n",
      "                                      'object_type': 'AirTerminal:SingleDuct:VAV:Reheat'},\n",
      "                          'Object6': {'object_field_name': 'availability_schedule_name',\n",
      "                                      'object_name': 'space1-1 zone coil',\n",
      "                                      'object_type': 'Coil:Heating:Electric'},\n",
      "                          'Object7': {'object_field_name': 'availability_schedule_name',\n",
      "                                      'object_name': 'space2-1 zone coil',\n",
      "                                      'object_type': 'Coil:Heating:Electric'},\n",
      "                          'Object8': {'object_field_name': 'availability_schedule_name',\n",
      "                                      'object_name': 'space3-1 zone coil',\n",
      "                                      'object_type': 'Coil:Heating:Electric'},\n",
      "                          'Object9': {'object_field_name': 'availability_schedule_name',\n",
      "                                      'object_name': 'space4-1 zone coil',\n",
      "                                      'object_type': 'Coil:Heating:Electric'},\n",
      "                          'Type': 'fraction'},\n",
      " 'seasonal reset supply air temp sch': {'Type': 'temperature'},\n",
      " 'shadetranssch': {'Object1': {'object_field_name': 'transmittance_schedule_name',\n",
      "                               'object_name': 'main south overhang',\n",
      "                               'object_type': 'Shading:Zone:Detailed'},\n",
      "                   'Object2': {'object_field_name': 'transmittance_schedule_name',\n",
      "                               'object_name': 'south door overhang',\n",
      "                               'object_type': 'Shading:Zone:Detailed'},\n",
      "                   'Type': 'fraction'},\n",
      " 'workeffsch': {'Object1': {'object_field_name': 'work_efficiency_schedule_name',\n",
      "                            'object_name': 'space1-1 people 1',\n",
      "                            'object_type': 'People'},\n",
      "                'Object2': {'object_field_name': 'work_efficiency_schedule_name',\n",
      "                            'object_name': 'space2-1 people 1',\n",
      "                            'object_type': 'People'},\n",
      "                'Object3': {'object_field_name': 'work_efficiency_schedule_name',\n",
      "                            'object_name': 'space3-1 people 1',\n",
      "                            'object_type': 'People'},\n",
      "                'Object4': {'object_field_name': 'work_efficiency_schedule_name',\n",
      "                            'object_name': 'space4-1 people 1',\n",
      "                            'object_type': 'People'},\n",
      "                'Object5': {'object_field_name': 'work_efficiency_schedule_name',\n",
      "                            'object_name': 'space5-1 people 1',\n",
      "                            'object_type': 'People'},\n",
      "                'Type': 'fraction'},\n",
      " 'zone control type sched': {'Object1': {'object_field_name': 'control_type_schedule_name',\n",
      "                                         'object_name': 'space1-1 control',\n",
      "                                         'object_type': 'ZoneControl:Thermostat'},\n",
      "                             'Object2': {'object_field_name': 'control_type_schedule_name',\n",
      "                                         'object_name': 'space2-1 control',\n",
      "                                         'object_type': 'ZoneControl:Thermostat'},\n",
      "                             'Object3': {'object_field_name': 'control_type_schedule_name',\n",
      "                                         'object_name': 'space3-1 control',\n",
      "                                         'object_type': 'ZoneControl:Thermostat'},\n",
      "                             'Object4': {'object_field_name': 'control_type_schedule_name',\n",
      "                                         'object_name': 'space4-1 control',\n",
      "                                         'object_type': 'ZoneControl:Thermostat'},\n",
      "                             'Object5': {'object_field_name': 'control_type_schedule_name',\n",
      "                                         'object_name': 'space5-1 control',\n",
      "                                         'object_type': 'ZoneControl:Thermostat'},\n",
      "                             'Type': 'control type'}}\n"
     ]
    }
   ],
   "source": [
    "import gym\n",
    "import sinergym\n",
    "\n",
    "from pprint import pprint\n",
    "\n",
    "env = gym.make('Eplus-demo-v1')\n",
    "schedulers=env.get_schedulers()\n",
    "pprint(schedulers)"
   ]
  },
  {
   "cell_type": "markdown",
   "metadata": {
    "collapsed": false,
    "pycharm": {
     "name": "#%% md\n"
    }
   },
   "source": [
    "The way to export an excel file with such organized information is by specifying a path to the method:"
   ]
  },
  {
   "cell_type": "code",
   "execution_count": 6,
   "metadata": {
    "collapsed": false,
    "pycharm": {
     "is_executing": true,
     "name": "#%%\n"
    }
   },
   "outputs": [],
   "source": [
    "actuators=env.get_schedulers(path='./example.xlsx')"
   ]
  },
  {
   "cell_type": "markdown",
   "metadata": {},
   "source": [
    "It is possible to know the zones available in the environment too. You only have to do the next:"
   ]
  },
  {
   "cell_type": "code",
   "execution_count": 7,
   "metadata": {},
   "outputs": [
    {
     "name": "stdout",
     "output_type": "stream",
     "text": [
      "['plenum-1', 'space1-1', 'space2-1', 'space3-1', 'space4-1', 'space5-1']\n"
     ]
    }
   ],
   "source": [
    "print(env.get_zones())"
   ]
  },
  {
   "cell_type": "markdown",
   "metadata": {},
   "source": [
    "## Updating the action definition of the environment"
   ]
  },
  {
   "cell_type": "markdown",
   "metadata": {},
   "source": [
    "As we have explained in the action and observation space example, one of the problems that can arise when \n",
    "modifying the space of actions and observations is that the *IDF* is not adapted to the \n",
    "new space of actions established.\n",
    "\n",
    "For this purpose, the *Sinergym* **action definition** is available. With a dictionary we can \n",
    "build a definition of what scheduler we want to be replaced in the building by the external control.\n",
    "\n",
    "For this example, we are going to add lights control to the external interface for the agent.\n",
    "Then, is not only necessary to update that **action definition**, the list of the action\n",
    "variables and space is necessary to be updated too."
   ]
  },
  {
   "cell_type": "code",
   "execution_count": 8,
   "metadata": {},
   "outputs": [
    {
     "name": "stderr",
     "output_type": "stream",
     "text": [
      "/usr/local/lib/python3.10/dist-packages/gym/spaces/box.py:73: UserWarning: \u001b[33mWARN: Box bound precision lowered by casting to float32\u001b[0m\n",
      "  logger.warn(\n",
      "[2022-10-06 18:22:35,414] EPLUS_ENV_5Zone-cool-continuous-stochastic-v1_MainThread_ROOT INFO:Updating idf ExternalInterface object if it is not present...\n",
      "[2022-10-06 18:22:35,415] EPLUS_ENV_5Zone-cool-continuous-stochastic-v1_MainThread_ROOT INFO:Updating idf Site:Location and SizingPeriod:DesignDay(s) to weather and ddy file...\n",
      "[2022-10-06 18:22:35,418] EPLUS_ENV_5Zone-cool-continuous-stochastic-v1_MainThread_ROOT INFO:Updating idf OutPut:Variable and variables XML tree model for BVCTB connection.\n",
      "[2022-10-06 18:22:35,421] EPLUS_ENV_5Zone-cool-continuous-stochastic-v1_MainThread_ROOT INFO:Setting up extra configuration in building model if exists...\n",
      "[2022-10-06 18:22:35,421] EPLUS_ENV_5Zone-cool-continuous-stochastic-v1_MainThread_ROOT INFO:Setting up action definition in building model if exists...\n",
      "/usr/local/lib/python3.10/dist-packages/gym/spaces/box.py:73: UserWarning: \u001b[33mWARN: Box bound precision lowered by casting to float32\u001b[0m\n",
      "  logger.warn(\n",
      "[2022-10-06 18:22:35,425] EPLUS_ENV_5Zone-cool-continuous-stochastic-v1_MainThread_ROOT INFO:Creating new EnergyPlus simulation episode...\n",
      "[2022-10-06 18:22:35,634] EPLUS_ENV_5Zone-cool-continuous-stochastic-v1_MainThread_ROOT INFO:EnergyPlus working directory is in /workspaces/sinergym/examples/Eplus-env-5Zone-cool-continuous-stochastic-v1-res1/Eplus-env-sub_run1\n"
     ]
    },
    {
     "name": "stdout",
     "output_type": "stream",
     "text": [
      "Reward:  -0.5840940942359726 {'timestep': 1, 'time_elapsed': 900, 'year': 1991, 'month': 1, 'day': 1, 'hour': 0, 'total_power': 11681.88188471945, 'total_power_no_units': -1.1681881884719452, 'comfort_penalty': -0.0, 'abs_comfort': 0.0, 'temperatures': [20.81098677275486], 'out_temperature': 3.49714287522964, 'action_': [20.739223, 26.901731, 0.33081388]}\n",
      "Reward:  -1370.8596712137255 {'timestep': 2976, 'time_elapsed': 2678400, 'year': 1991, 'month': 2, 'day': 1, 'hour': 0, 'total_power': 511.8321782629999, 'total_power_no_units': -0.05118321782629999, 'comfort_penalty': -0.2057763869912108, 'abs_comfort': 0.2057763869912108, 'temperatures': [19.79422361300879], 'out_temperature': 7.782781681381429, 'action_': [18.20144, 23.417742, 0.67539644]}\n",
      "Reward:  -2688.784401646831 {'timestep': 5664, 'time_elapsed': 5097600, 'year': 1991, 'month': 3, 'day': 1, 'hour': 0, 'total_power': 2829.09781730029, 'total_power_no_units': -0.282909781730029, 'comfort_penalty': -0.6760295347369585, 'abs_comfort': 0.6760295347369585, 'temperatures': [19.32397046526304], 'out_temperature': 3.791519671700737, 'action_': [16.95525, 24.37522, 0.33238682]}\n",
      "Reward:  -3619.8569081448077 {'timestep': 8640, 'time_elapsed': 7776000, 'year': 1991, 'month': 4, 'day': 1, 'hour': 0, 'total_power': 120.4056020773604, 'total_power_no_units': -0.01204056020773604, 'comfort_penalty': -0.0, 'abs_comfort': 0.0, 'temperatures': [20.00327516817931], 'out_temperature': 5.693440019699765, 'action_': [17.64496, 25.913532, 0.6713079]}\n",
      "Reward:  -4504.830747491915 {'timestep': 11520, 'time_elapsed': 10368000, 'year': 1991, 'month': 5, 'day': 1, 'hour': 0, 'total_power': 203.3882933113485, 'total_power_no_units': -0.02033882933113485, 'comfort_penalty': -0.0, 'abs_comfort': 0.0, 'temperatures': [20.20119562247654], 'out_temperature': 9.593726357320211, 'action_': [20.042751, 29.396355, 0.42597198]}\n",
      "Reward:  -5225.32624484799 {'timestep': 14496, 'time_elapsed': 13046400, 'year': 1991, 'month': 6, 'day': 1, 'hour': 0, 'total_power': 3208.005320714738, 'total_power_no_units': -0.3208005320714738, 'comfort_penalty': -2.368357714242979, 'abs_comfort': 2.368357714242979, 'temperatures': [20.63164228575702], 'out_temperature': 9.287233180430722, 'action_': [20.659603, 24.24425, 0.35984138]}\n",
      "Reward:  -6985.82099846579 {'timestep': 17376, 'time_elapsed': 15638400, 'year': 1991, 'month': 7, 'day': 1, 'hour': 0, 'total_power': 771.2177769734245, 'total_power_no_units': -0.07712177769734245, 'comfort_penalty': -1.6422893952445214, 'abs_comfort': 1.6422893952445214, 'temperatures': [21.35771060475548], 'out_temperature': 12.34306704723221, 'action_': [21.358692, 25.707256, 0.54816556]}\n",
      "Reward:  -8624.793172629395 {'timestep': 20352, 'time_elapsed': 18316800, 'year': 1991, 'month': 8, 'day': 1, 'hour': 0, 'total_power': 163.8266110214666, 'total_power_no_units': -0.01638266110214666, 'comfort_penalty': -2.3177130131439796, 'abs_comfort': 2.3177130131439796, 'temperatures': [20.68228698685602], 'out_temperature': 10.84556746048222, 'action_': [16.76053, 29.799595, 0.81815624]}\n",
      "Reward:  -10297.266354437317 {'timestep': 23328, 'time_elapsed': 20995200, 'year': 1991, 'month': 9, 'day': 1, 'hour': 0, 'total_power': 120.4056020773604, 'total_power_no_units': -0.01204056020773604, 'comfort_penalty': -0.7405094651604998, 'abs_comfort': 0.7405094651604998, 'temperatures': [22.2594905348395], 'out_temperature': 11.49198843365878, 'action_': [18.703892, 25.786087, 0.657274]}\n",
      "Reward:  -12174.188054383643 {'timestep': 26208, 'time_elapsed': 23587200, 'year': 1991, 'month': 10, 'day': 1, 'hour': 0, 'total_power': 507.6157518133002, 'total_power_no_units': -0.050761575181330024, 'comfort_penalty': -0.3023838233314713, 'abs_comfort': 0.3023838233314713, 'temperatures': [19.69761617666853], 'out_temperature': 5.489355827888907, 'action_': [18.318037, 22.965883, 0.10792205]}\n",
      "Reward:  -13023.533739752591 {'timestep': 29184, 'time_elapsed': 26265600, 'year': 1991, 'month': 11, 'day': 1, 'hour': 0, 'total_power': 8425.78894211646, 'total_power_no_units': -0.842578894211646, 'comfort_penalty': -0.0, 'abs_comfort': 0.0, 'temperatures': [21.36263633565656], 'out_temperature': 8.532192752891982, 'action_': [21.38224, 27.225155, 0.013133109]}\n",
      "Reward:  -13966.732148553923 {'timestep': 32064, 'time_elapsed': 28857600, 'year': 1991, 'month': 12, 'day': 1, 'hour': 0, 'total_power': 137.3409342641895, 'total_power_no_units': -0.013734093426418952, 'comfort_penalty': -0.5727057779404809, 'abs_comfort': 0.5727057779404809, 'temperatures': [19.42729422205952], 'out_temperature': 4.669546536849687, 'action_': [17.249783, 27.815273, 0.03361243]}\n",
      "Reward:  -15340.073198221744 {'timestep': 35040, 'time_elapsed': 31536000, 'year': 1992, 'month': 1, 'day': 1, 'hour': 0, 'total_power': 3522.878462866693, 'total_power_no_units': -0.3522878462866693, 'comfort_penalty': -1.8095884048080784, 'abs_comfort': 1.8095884048080784, 'temperatures': [18.19041159519192], 'out_temperature': 0.2522358628742318, 'action_': [18.120485, 26.978975, 0.394029]}\n",
      "Episode  0 Mean reward:  -0.4377874771182157 Cumulative reward:  -15340.073198221744\n"
     ]
    },
    {
     "name": "stderr",
     "output_type": "stream",
     "text": [
      "[2022-10-06 18:22:58,714] EPLUS_ENV_5Zone-cool-continuous-stochastic-v1_MainThread_ROOT INFO:EnergyPlus simulation closed successfully. \n"
     ]
    }
   ],
   "source": [
    "import gym\n",
    "import numpy as np\n",
    "\n",
    "new_action_variables=[\n",
    "'Heating_Setpoint_RL',\n",
    "'Cooling_Setpoint_RL',\n",
    "'light_control'\n",
    "]\n",
    "\n",
    "new_action_space=gym.spaces.Box(\n",
    "    low=np.array([15.0, 22.5, 0.0]),\n",
    "    high=np.array([22.5, 30.0, 1.0]),\n",
    "    shape=(3,),\n",
    "    dtype=np.float32\n",
    ")\n",
    "\n",
    "new_action_definition={\n",
    "    'Htg-SetP-Sch': {'name': 'Heating_Setpoint_RL', 'initial_value': 21},\n",
    "    'Clg-SetP-Sch': {'name': 'Cooling_Setpoint_RL', 'initial_value': 25},\n",
    "    'LIGHTS-1':{'name':'light_control','initial_value':0.2}\n",
    "\n",
    "}\n",
    "\n",
    "env = gym.make('Eplus-5Zone-cool-continuous-stochastic-v1',\n",
    "                action_variables=new_action_variables,\n",
    "                action_space=new_action_space,\n",
    "                action_definition=new_action_definition\n",
    "                )\n",
    "\n",
    "for i in range(1):\n",
    "    obs = env.reset()\n",
    "    rewards = []\n",
    "    done = False\n",
    "    current_month = 0\n",
    "    while not done:\n",
    "        a = env.action_space.sample()\n",
    "        obs, reward, done, info = env.step(a)\n",
    "        rewards.append(reward)\n",
    "        if info['month'] != current_month:  # display results every month\n",
    "            current_month = info['month']\n",
    "            print('Reward: ', sum(rewards), info)\n",
    "    print(\n",
    "        'Episode ',\n",
    "        i,\n",
    "        'Mean reward: ',\n",
    "        np.mean(rewards),\n",
    "        'Cumulative reward: ',\n",
    "        sum(rewards))\n",
    "env.close()"
   ]
  },
  {
   "cell_type": "markdown",
   "metadata": {},
   "source": [
    "Previously, it is recommended to know what controllers are available in the specific building model, see the previous example of this notebook. For more information about the format of the action definition dictionaries, visit the section called [action definition](https://ugr-sail.github.io/sinergym/compilation/html/pages/environments.html#action-definition)."
   ]
  },
  {
   "cell_type": "markdown",
   "metadata": {},
   "source": [
    "## Adding more extra configuration"
   ]
  },
  {
   "cell_type": "markdown",
   "metadata": {},
   "source": [
    "You can even add a dictionary with extra parameters that update IDF with some new context concerned with simulation directly.\n",
    "\n",
    "This new IDF version, which also adapts to the new weather you put in, is saved in the Sinergym output folder, leaving the original intact:"
   ]
  },
  {
   "cell_type": "code",
   "execution_count": 9,
   "metadata": {},
   "outputs": [
    {
     "name": "stderr",
     "output_type": "stream",
     "text": [
      "[2022-10-06 18:23:04,221] EPLUS_ENV_datacenter-cool-continuous-stochastic-v1_MainThread_ROOT INFO:Updating idf ExternalInterface object if it is not present...\n",
      "[2022-10-06 18:23:04,223] EPLUS_ENV_datacenter-cool-continuous-stochastic-v1_MainThread_ROOT INFO:Updating idf Site:Location and SizingPeriod:DesignDay(s) to weather and ddy file...\n",
      "[2022-10-06 18:23:04,228] EPLUS_ENV_datacenter-cool-continuous-stochastic-v1_MainThread_ROOT INFO:Updating idf OutPut:Variable and variables XML tree model for BVCTB connection.\n",
      "[2022-10-06 18:23:04,233] EPLUS_ENV_datacenter-cool-continuous-stochastic-v1_MainThread_ROOT INFO:Setting up extra configuration in building model if exists...\n",
      "[2022-10-06 18:23:04,234] EPLUS_ENV_datacenter-cool-continuous-stochastic-v1_MainThread_ROOT INFO:Setting up action definition in building model if exists...\n",
      "/usr/local/lib/python3.10/dist-packages/gym/spaces/box.py:73: UserWarning: \u001b[33mWARN: Box bound precision lowered by casting to float32\u001b[0m\n",
      "  logger.warn(\n"
     ]
    }
   ],
   "source": [
    "extra_conf={\n",
    "    'timesteps_per_hour':6,\n",
    "    'runperiod':(1,1,1991,2,1,1992),\n",
    "}\n",
    "\n",
    "env = gym.make('Eplus-datacenter-cool-continuous-stochastic-v1', \n",
    "                config_params=extra_conf\n",
    "                )"
   ]
  },
  {
   "cell_type": "markdown",
   "metadata": {},
   "source": [
    "For more information about extra configuration parameters, see our [Extra configuration documentation](https://ugr-sail.github.io/sinergym/compilation/html/pages/extra-configuration.html)"
   ]
  }
 ],
 "metadata": {
  "kernelspec": {
   "display_name": "Python 3.10.4 64-bit",
   "language": "python",
   "name": "python3"
  },
  "language_info": {
   "codemirror_mode": {
    "name": "ipython",
    "version": 3
   },
   "file_extension": ".py",
   "mimetype": "text/x-python",
   "name": "python",
   "nbconvert_exporter": "python",
   "pygments_lexer": "ipython3",
   "version": "3.10.4"
  },
  "vscode": {
   "interpreter": {
    "hash": "e7370f93d1d0cde622a1f8e1c04877d8463912d04d973331ad4851f04de6915a"
   }
  }
 },
 "nbformat": 4,
 "nbformat_minor": 0
}
