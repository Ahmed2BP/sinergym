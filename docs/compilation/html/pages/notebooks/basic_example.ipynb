{
 "cells": [
  {
   "cell_type": "markdown",
   "metadata": {
    "collapsed": false
   },
   "source": [
    "# Basic example"
   ]
  },
  {
   "cell_type": "markdown",
   "metadata": {
    "collapsed": true,
    "pycharm": {
     "name": "#%% md\n"
    }
   },
   "source": [
    "Sinergym uses the standard OpenAI gym API. Lets see how to create a basic loop.\n",
    "\n",
    "First we need to include sinergym and create an environment, in our case using 'Eplus-demo-v1'"
   ]
  },
  {
   "cell_type": "code",
   "execution_count": 1,
   "metadata": {
    "collapsed": false,
    "pycharm": {
     "is_executing": true,
     "name": "#%%\n"
    }
   },
   "outputs": [
    {
     "name": "stderr",
     "output_type": "stream",
     "text": [
      "/usr/local/lib/python3.10/dist-packages/gym/spaces/box.py:73: UserWarning: \u001b[33mWARN: Box bound precision lowered by casting to float32\u001b[0m\n",
      "  logger.warn(\n",
      "[2022-10-06 18:01:28,162] EPLUS_ENV_demo-v1_MainThread_ROOT INFO:Updating idf ExternalInterface object if it is not present...\n",
      "[2022-10-06 18:01:28,163] EPLUS_ENV_demo-v1_MainThread_ROOT INFO:Updating idf Site:Location and SizingPeriod:DesignDay(s) to weather and ddy file...\n",
      "[2022-10-06 18:01:28,165] EPLUS_ENV_demo-v1_MainThread_ROOT INFO:Updating idf OutPut:Variable and variables XML tree model for BVCTB connection.\n",
      "[2022-10-06 18:01:28,166] EPLUS_ENV_demo-v1_MainThread_ROOT INFO:Setting up extra configuration in building model if exists...\n",
      "[2022-10-06 18:01:28,167] EPLUS_ENV_demo-v1_MainThread_ROOT INFO:Setting up action definition in building model if exists...\n"
     ]
    }
   ],
   "source": [
    "import gym\n",
    "import numpy as np\n",
    "\n",
    "import sinergym\n",
    "env = gym.make('Eplus-demo-v1')"
   ]
  },
  {
   "cell_type": "markdown",
   "metadata": {
    "collapsed": false,
    "pycharm": {
     "name": "#%% md\n"
    }
   },
   "source": [
    "At first glance may appear that sinergym is only imported but never used, but by importing Sinergym all its [Environments](https://ugr-sail.github.io/sinergym/compilation/html/pages/environments.html)\n",
    "are defined to be used, in this case 'Eplus-demo-v1' with all the information contained in the idf file and the config file.\n",
    "\n",
    "After this simple definition we are ready to loop the episodes, for this simple example we are going to consider only 1 episode. In summary the code we need is something like this:"
   ]
  },
  {
   "cell_type": "code",
   "execution_count": 2,
   "metadata": {
    "collapsed": false,
    "pycharm": {
     "is_executing": true,
     "name": "#%%\n"
    }
   },
   "outputs": [
    {
     "name": "stderr",
     "output_type": "stream",
     "text": [
      "[2022-10-06 18:01:41,820] EPLUS_ENV_demo-v1_MainThread_ROOT INFO:Creating new EnergyPlus simulation episode...\n",
      "[2022-10-06 18:01:41,834] EPLUS_ENV_demo-v1_MainThread_ROOT INFO:EnergyPlus working directory is in /workspaces/sinergym/examples/Eplus-env-demo-v1-res1/Eplus-env-sub_run1\n"
     ]
    },
    {
     "name": "stdout",
     "output_type": "stream",
     "text": [
      "Reward:  -0.5693658209031192 {'timestep': 1, 'time_elapsed': 900, 'year': 1991, 'month': 1, 'day': 1, 'hour': 0, 'total_power': 3780.170717786078, 'total_power_no_units': -0.3780170717786078, 'comfort_penalty': -0.7607145700276305, 'abs_comfort': 0.7607145700276305, 'temperatures': [19.23928542997237], 'out_temperature': 1.8, 'action_': [15, 30]}\n",
      "Reward:  -2098.733619243228 {'timestep': 2976, 'time_elapsed': 2678400, 'year': 1991, 'month': 2, 'day': 1, 'hour': 0, 'total_power': 4166.516853564798, 'total_power_no_units': -0.41665168535647984, 'comfort_penalty': -2.3043905142467516, 'abs_comfort': 2.3043905142467516, 'temperatures': [17.69560948575325], 'out_temperature': -7.0, 'action_': [16, 29]}\n",
      "Reward:  -4092.2076816763133 {'timestep': 5664, 'time_elapsed': 5097600, 'year': 1991, 'month': 3, 'day': 1, 'hour': 0, 'total_power': 498.7226036713867, 'total_power_no_units': -0.049872260367138675, 'comfort_penalty': -0.8225982572911086, 'abs_comfort': 0.8225982572911086, 'temperatures': [19.17740174270889], 'out_temperature': 8.1, 'action_': [16, 29]}\n",
      "Reward:  -5422.713783528127 {'timestep': 8640, 'time_elapsed': 7776000, 'year': 1991, 'month': 4, 'day': 1, 'hour': 0, 'total_power': 152.4868953414246, 'total_power_no_units': -0.01524868953414246, 'comfort_penalty': -0.45487229193413015, 'abs_comfort': 0.45487229193413015, 'temperatures': [19.54512770806587], 'out_temperature': 7.7, 'action_': [16, 29]}\n",
      "Reward:  -6317.257519984942 {'timestep': 11520, 'time_elapsed': 10368000, 'year': 1991, 'month': 5, 'day': 1, 'hour': 0, 'total_power': 1788.258702175562, 'total_power_no_units': -0.1788258702175562, 'comfort_penalty': -0.01673125581292112, 'abs_comfort': 0.01673125581292112, 'temperatures': [19.98326874418708], 'out_temperature': 13.0, 'action_': [20, 25]}\n",
      "Reward:  -7171.7752272903535 {'timestep': 14496, 'time_elapsed': 13046400, 'year': 1991, 'month': 6, 'day': 1, 'hour': 0, 'total_power': 257.3247299498616, 'total_power_no_units': -0.02573247299498616, 'comfort_penalty': -1.6066728573882116, 'abs_comfort': 1.6066728573882116, 'temperatures': [21.39332714261179], 'out_temperature': 18.4, 'action_': [19, 26]}\n",
      "Reward:  -10053.826572571523 {'timestep': 17376, 'time_elapsed': 15638400, 'year': 1991, 'month': 7, 'day': 1, 'hour': 0, 'total_power': 175.7866565716585, 'total_power_no_units': -0.017578665657165853, 'comfort_penalty': -1.6425680376744793, 'abs_comfort': 1.6425680376744793, 'temperatures': [21.35743196232552], 'out_temperature': 17.7, 'action_': [21, 24]}\n",
      "Reward:  -13313.71055332669 {'timestep': 20352, 'time_elapsed': 18316800, 'year': 1991, 'month': 8, 'day': 1, 'hour': 0, 'total_power': 20953.41836722818, 'total_power_no_units': -2.095341836722818, 'comfort_penalty': -1.3554176694770312, 'abs_comfort': 1.3554176694770312, 'temperatures': [21.64458233052297], 'out_temperature': 20.6, 'action_': [22, 23]}\n",
      "Reward:  -16546.260328442124 {'timestep': 23328, 'time_elapsed': 20995200, 'year': 1991, 'month': 9, 'day': 1, 'hour': 0, 'total_power': 296.4185446687031, 'total_power_no_units': -0.02964185446687031, 'comfort_penalty': -2.17941492507612, 'abs_comfort': 2.17941492507612, 'temperatures': [20.82058507492388], 'out_temperature': 18.8, 'action_': [15, 30]}\n",
      "Reward:  -19354.756004766172 {'timestep': 26208, 'time_elapsed': 23587200, 'year': 1991, 'month': 10, 'day': 1, 'hour': 0, 'total_power': 5971.429306306477, 'total_power_no_units': -0.5971429306306477, 'comfort_penalty': -0.0, 'abs_comfort': 0.0, 'temperatures': [20.99013258410595], 'out_temperature': 13.3, 'action_': [21, 24]}\n",
      "Reward:  -20418.658736416906 {'timestep': 29184, 'time_elapsed': 26265600, 'year': 1991, 'month': 11, 'day': 1, 'hour': 0, 'total_power': 152.4868953414246, 'total_power_no_units': -0.01524868953414246, 'comfort_penalty': -0.0, 'abs_comfort': 0.0, 'temperatures': [20.51137256907888], 'out_temperature': 13.0, 'action_': [15, 30]}\n",
      "Reward:  -21602.378772908734 {'timestep': 32064, 'time_elapsed': 28857600, 'year': 1991, 'month': 12, 'day': 1, 'hour': 0, 'total_power': 16566.98815782792, 'total_power_no_units': -1.656698815782792, 'comfort_penalty': -0.0, 'abs_comfort': 0.0, 'temperatures': [21.44128026723553], 'out_temperature': 5.1, 'action_': [22, 23]}\n",
      "Reward:  -23641.92190932824 {'timestep': 35040, 'time_elapsed': 31536000, 'year': 1992, 'month': 1, 'day': 1, 'hour': 0, 'total_power': 9884.771470481655, 'total_power_no_units': -0.9884771470481656, 'comfort_penalty': -0.7924755454007091, 'abs_comfort': 0.7924755454007091, 'temperatures': [19.20752445459929], 'out_temperature': -12.0, 'action_': [19, 26]}\n"
     ]
    }
   ],
   "source": [
    "for i in range(1):\n",
    "    obs = env.reset()\n",
    "    rewards = []\n",
    "    done = False\n",
    "    current_month = 0\n",
    "    while not done:\n",
    "        a = env.action_space.sample()\n",
    "        obs, reward, done, info = env.step(a)\n",
    "        rewards.append(reward)\n",
    "        if info['month'] != current_month:  # display results every month\n",
    "            current_month = info['month']\n",
    "            print('Reward: ', sum(rewards), info)"
   ]
  },
  {
   "cell_type": "markdown",
   "metadata": {
    "collapsed": false,
    "pycharm": {
     "name": "#%% md\n"
    }
   },
   "source": [
    "And as always don't forget to close the environment:"
   ]
  },
  {
   "cell_type": "code",
   "execution_count": 3,
   "metadata": {
    "collapsed": false,
    "pycharm": {
     "name": "#%%\n"
    }
   },
   "outputs": [
    {
     "name": "stderr",
     "output_type": "stream",
     "text": [
      "[2022-10-06 18:02:06,211] EPLUS_ENV_demo-v1_MainThread_ROOT INFO:EnergyPlus simulation closed successfully. \n"
     ]
    }
   ],
   "source": [
    "env.close()"
   ]
  },
  {
   "cell_type": "markdown",
   "metadata": {
    "collapsed": false,
    "pycharm": {
     "name": "#%% md\n"
    }
   },
   "source": [
    "Now we can see the final rewards:"
   ]
  },
  {
   "cell_type": "code",
   "execution_count": 4,
   "metadata": {
    "collapsed": false,
    "pycharm": {
     "name": "#%%\n"
    }
   },
   "outputs": [
    {
     "name": "stdout",
     "output_type": "stream",
     "text": [
      "Mean reward:  -0.6747123832571069 Cumulative reward:  -23641.92190932824\n"
     ]
    }
   ],
   "source": [
    "print(\n",
    "    'Mean reward: ',\n",
    "    np.mean(rewards),\n",
    "    'Cumulative reward: ',\n",
    "    sum(rewards))"
   ]
  },
  {
   "cell_type": "markdown",
   "metadata": {},
   "source": [
    "The [list of environments](https://github.com/ugr-sail/sinergym/blob/main/sinergym/__init__.py) that we have registered in Sinergym is extensive and we use buildings changing particularities. For example, continuous action space or discrete, noise over weather, runperiod, timesteps, reward function, etc. We will see it in the following notebooks.****"
   ]
  }
 ],
 "metadata": {
  "kernelspec": {
   "display_name": "Python 3.10.4 64-bit",
   "language": "python",
   "name": "python3"
  },
  "language_info": {
   "codemirror_mode": {
    "name": "ipython",
    "version": 3
   },
   "file_extension": ".py",
   "mimetype": "text/x-python",
   "name": "python",
   "nbconvert_exporter": "python",
   "pygments_lexer": "ipython3",
   "version": "3.10.4"
  },
  "vscode": {
   "interpreter": {
    "hash": "e7370f93d1d0cde622a1f8e1c04877d8463912d04d973331ad4851f04de6915a"
   }
  }
 },
 "nbformat": 4,
 "nbformat_minor": 0
}
