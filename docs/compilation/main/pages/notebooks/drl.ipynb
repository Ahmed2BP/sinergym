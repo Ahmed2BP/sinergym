{
 "cells": [
  {
   "cell_type": "markdown",
   "metadata": {
    "collapsed": false
   },
   "source": [
    "# DRL usage example"
   ]
  },
  {
   "attachments": {},
   "cell_type": "markdown",
   "metadata": {},
   "source": [
    "In this notebook example, Stable Baselines 3 has been used to train and to load an agent. However, Sinergym is completely agnostic to any DRL algorithm (although there are custom callbacks for SB3 specifically) and can be used with any DRL library that works with gymnasium environments."
   ]
  },
  {
   "attachments": {},
   "cell_type": "markdown",
   "metadata": {},
   "source": [
    "## Training a model"
   ]
  },
  {
   "cell_type": "markdown",
   "metadata": {
    "collapsed": false
   },
   "source": [
    "We are going to rely on the script available in the repository root called `DRL_battery.py`. This script applies all the possibilities that Sinergym has to work with deep reinforcement learning algorithms and set parameters to everything so that we can define the training options from the execution of the script easily by a JSON file.\n",
    "\n",
    "For more information about how run `DRL_battery.py`, please, see [Train a model](https://ugr-sail.github.io/sinergym/compilation/main/pages/deep-reinforcement-learning.html#train-a-model)."
   ]
  },
  {
   "cell_type": "code",
   "execution_count": 2,
   "metadata": {
    "collapsed": true,
    "pycharm": {
     "name": "#%%\n"
    }
   },
   "outputs": [],
   "source": [
    "import sys\n",
    "from datetime import datetime\n",
    "\n",
    "import gymnasium as gym\n",
    "import numpy as np\n",
    "import wandb\n",
    "from stable_baselines3 import *\n",
    "from stable_baselines3.common.callbacks import CallbackList\n",
    "from stable_baselines3.common.logger import HumanOutputFormat, Logger\n",
    "from stable_baselines3.common.monitor import Monitor\n",
    "\n",
    "import sinergym\n",
    "import sinergym.utils.gcloud as gcloud\n",
    "from sinergym.utils.callbacks import *\n",
    "from sinergym.utils.constants import *\n",
    "from sinergym.utils.logger import CSVLogger, WandBOutputFormat\n",
    "from sinergym.utils.rewards import *\n",
    "from sinergym.utils.wrappers import *"
   ]
  },
  {
   "cell_type": "markdown",
   "metadata": {
    "collapsed": false
   },
   "source": [
    "First let's define some variables for the execution."
   ]
  },
  {
   "cell_type": "code",
   "execution_count": 3,
   "metadata": {
    "collapsed": false,
    "pycharm": {
     "name": "#%%\n"
    }
   },
   "outputs": [],
   "source": [
    "# Environment ID\n",
    "environment = \"Eplus-demo-v1\"\n",
    "# Training episodes\n",
    "episodes = 4\n",
    "#Name of the experiment\n",
    "experiment_date = datetime.today().strftime('%Y-%m-%d_%H:%M')\n",
    "experiment_name = 'SB3_DQN-' + environment + \\\n",
    "    '-episodes-' + str(episodes)\n",
    "experiment_name += '_' + experiment_date"
   ]
  },
  {
   "attachments": {},
   "cell_type": "markdown",
   "metadata": {},
   "source": [
    "We can combine this experiment executions with [Weights&Biases](https://ugr-sail.github.io/sinergym/compilation/main/pages/deep-reinforcement-learning.html#weights-and-biases-structure) in order to host all information extracted. With *wandb*, it’s possible to track and visualize all DRL training process in real time, register hyperparameters and details of each experiment, save artifacts such as models and *sinergym* output, and compare between different executions."
   ]
  },
  {
   "cell_type": "code",
   "execution_count": 5,
   "metadata": {},
   "outputs": [
    {
     "name": "stderr",
     "output_type": "stream",
     "text": [
      "\u001b[34m\u001b[1mwandb\u001b[0m: Currently logged in as: \u001b[33malex_ugr\u001b[0m. Use \u001b[1m`wandb login --relogin`\u001b[0m to force relogin\n"
     ]
    },
    {
     "data": {
      "text/html": [
       "Tracking run with wandb version 0.15.2"
      ],
      "text/plain": [
       "<IPython.core.display.HTML object>"
      ]
     },
     "metadata": {},
     "output_type": "display_data"
    },
    {
     "data": {
      "text/html": [
       "Run data is saved locally in <code>/workspaces/sinergym/examples/wandb/run-20230512_080955-x3br0zvv</code>"
      ],
      "text/plain": [
       "<IPython.core.display.HTML object>"
      ]
     },
     "metadata": {},
     "output_type": "display_data"
    },
    {
     "data": {
      "text/html": [
       "Syncing run <strong><a href='https://wandb.ai/alex_ugr/sinergym/runs/x3br0zvv' target=\"_blank\">SB3_DQN-Eplus-demo-v1-episodes-4_2023-05-12_08:09_ec8q8oru</a></strong> to <a href='https://wandb.ai/alex_ugr/sinergym' target=\"_blank\">Weights & Biases</a> (<a href='https://wandb.me/run' target=\"_blank\">docs</a>)<br/>"
      ],
      "text/plain": [
       "<IPython.core.display.HTML object>"
      ]
     },
     "metadata": {},
     "output_type": "display_data"
    },
    {
     "data": {
      "text/html": [
       " View project at <a href='https://wandb.ai/alex_ugr/sinergym' target=\"_blank\">https://wandb.ai/alex_ugr/sinergym</a>"
      ],
      "text/plain": [
       "<IPython.core.display.HTML object>"
      ]
     },
     "metadata": {},
     "output_type": "display_data"
    },
    {
     "data": {
      "text/html": [
       " View run at <a href='https://wandb.ai/alex_ugr/sinergym/runs/x3br0zvv' target=\"_blank\">https://wandb.ai/alex_ugr/sinergym/runs/x3br0zvv</a>"
      ],
      "text/plain": [
       "<IPython.core.display.HTML object>"
      ]
     },
     "metadata": {},
     "output_type": "display_data"
    }
   ],
   "source": [
    "# Create wandb.config object in order to log all experiment params\n",
    "experiment_params = {\n",
    "    'sinergym-version': sinergym.__version__,\n",
    "    'python-version': sys.version\n",
    "}\n",
    "experiment_params.update({'environment':environment,\n",
    "                          'episodes':episodes,\n",
    "                          'algorithm':'SB3_DQN'})\n",
    "\n",
    "# Get wandb init params (you have to specify your own project and entity)\n",
    "wandb_params = {\"project\": 'sinergym',\n",
    "                \"entity\": 'alex_ugr'}\n",
    "# Init wandb entry\n",
    "run = wandb.init(\n",
    "    name=experiment_name + '_' + wandb.util.generate_id(),\n",
    "    config=experiment_params,\n",
    "    ** wandb_params\n",
    ")"
   ]
  },
  {
   "cell_type": "markdown",
   "metadata": {
    "collapsed": false
   },
   "source": [
    "Now we are ready to create the Gymnasium Environment. Here we use the environment name defined, remember that you can [change default environment configuration](https://ugr-sail.github.io/sinergym/compilation/main/pages/notebooks/change_environment.html#Changing-an-environment-registered-in-Sinergym). We will create a eval_env too in order to interact in the evaluation episodes. We can overwrite the env name with experiment name if we want."
   ]
  },
  {
   "cell_type": "code",
   "execution_count": 6,
   "metadata": {
    "collapsed": false,
    "pycharm": {
     "name": "#%%\n"
    }
   },
   "outputs": [
    {
     "name": "stdout",
     "output_type": "stream",
     "text": [
      "[2023-05-12 08:10:18,731] EPLUS_ENV_SB3_DQN-Eplus-demo-v1-episodes-4_2023-05-12_08:09_MainThread_ROOT INFO:Updating idf ExternalInterface object if it is not present...\n",
      "[2023-05-12 08:10:18,733] EPLUS_ENV_SB3_DQN-Eplus-demo-v1-episodes-4_2023-05-12_08:09_MainThread_ROOT INFO:Updating idf Site:Location and SizingPeriod:DesignDay(s) to weather and ddy file...\n",
      "[2023-05-12 08:10:18,734] EPLUS_ENV_SB3_DQN-Eplus-demo-v1-episodes-4_2023-05-12_08:09_MainThread_ROOT INFO:Updating idf OutPut:Variable and variables XML tree model for BVCTB connection.\n",
      "[2023-05-12 08:10:18,736] EPLUS_ENV_SB3_DQN-Eplus-demo-v1-episodes-4_2023-05-12_08:09_MainThread_ROOT INFO:Setting up extra configuration in building model if exists...\n",
      "[2023-05-12 08:10:18,736] EPLUS_ENV_SB3_DQN-Eplus-demo-v1-episodes-4_2023-05-12_08:09_MainThread_ROOT INFO:Setting up action definition in building model if exists...\n",
      "[2023-05-12 08:10:19,633] EPLUS_ENV_SB3_DQN-Eplus-demo-v1-episodes-4_2023-05-12_08:09_EVALUATION_MainThread_ROOT INFO:Updating idf ExternalInterface object if it is not present...\n",
      "[2023-05-12 08:10:19,636] EPLUS_ENV_SB3_DQN-Eplus-demo-v1-episodes-4_2023-05-12_08:09_EVALUATION_MainThread_ROOT INFO:Updating idf Site:Location and SizingPeriod:DesignDay(s) to weather and ddy file...\n",
      "[2023-05-12 08:10:19,638] EPLUS_ENV_SB3_DQN-Eplus-demo-v1-episodes-4_2023-05-12_08:09_EVALUATION_MainThread_ROOT INFO:Updating idf OutPut:Variable and variables XML tree model for BVCTB connection.\n",
      "[2023-05-12 08:10:19,639] EPLUS_ENV_SB3_DQN-Eplus-demo-v1-episodes-4_2023-05-12_08:09_EVALUATION_MainThread_ROOT INFO:Setting up extra configuration in building model if exists...\n",
      "[2023-05-12 08:10:19,639] EPLUS_ENV_SB3_DQN-Eplus-demo-v1-episodes-4_2023-05-12_08:09_EVALUATION_MainThread_ROOT INFO:Setting up action definition in building model if exists...\n"
     ]
    }
   ],
   "source": [
    "env = gym.make(environment, env_name=experiment_name)\n",
    "eval_env = gym.make(environment, env_name=experiment_name+'_EVALUATION')"
   ]
  },
  {
   "cell_type": "markdown",
   "metadata": {
    "collapsed": false
   },
   "source": [
    "We can also add a Wrapper to the environment, we are going to use a Logger (extension of `gym.Wrapper`) this is used to monitor and log the interactions with the environment and save the data into a CSV. Files generated will be stored as artifact in *wandb* too."
   ]
  },
  {
   "cell_type": "code",
   "execution_count": 7,
   "metadata": {
    "collapsed": false,
    "pycharm": {
     "name": "#%%\n"
    }
   },
   "outputs": [],
   "source": [
    "env = LoggerWrapper(env)"
   ]
  },
  {
   "cell_type": "markdown",
   "metadata": {
    "collapsed": false
   },
   "source": [
    "At this point, we have the environment set up and ready to be used. We are going to create our learning model (Stable Baselines 3 DQN), but we can use any other algorithm."
   ]
  },
  {
   "cell_type": "code",
   "execution_count": 8,
   "metadata": {
    "collapsed": false,
    "pycharm": {
     "name": "#%%\n"
    }
   },
   "outputs": [
    {
     "name": "stdout",
     "output_type": "stream",
     "text": [
      "Using cpu device\n",
      "Wrapping the env with a `Monitor` wrapper\n",
      "Wrapping the env in a DummyVecEnv.\n"
     ]
    }
   ],
   "source": [
    "model = DQN('MlpPolicy', env, verbose=1)"
   ]
  },
  {
   "cell_type": "markdown",
   "metadata": {
    "collapsed": false
   },
   "source": [
    "Now we need to calculate the number of timesteps of each episode for the evaluation. Evaluation will execute the current model during a number of episodes determined to decide if it is the best current version of the model at that point of the training. Output generated will be stored in *wandb* server too."
   ]
  },
  {
   "cell_type": "code",
   "execution_count": 9,
   "metadata": {
    "collapsed": false,
    "pycharm": {
     "name": "#%%\n"
    }
   },
   "outputs": [],
   "source": [
    "n_timesteps_episode = env.simulator._eplus_one_epi_len / \\\n",
    "                      env.simulator._eplus_run_stepsize\n"
   ]
  },
  {
   "cell_type": "markdown",
   "metadata": {
    "collapsed": false
   },
   "source": [
    "We are going to use the LoggerEval callback to print and save the best model evaluated during training."
   ]
  },
  {
   "cell_type": "code",
   "execution_count": 10,
   "metadata": {
    "collapsed": false,
    "pycharm": {
     "name": "#%%\n"
    }
   },
   "outputs": [],
   "source": [
    "callbacks = []\n",
    "\n",
    "# Set up Evaluation and saving best model\n",
    "eval_callback = LoggerEvalCallback(\n",
    "    eval_env,\n",
    "    best_model_save_path=eval_env.simulator._env_working_dir_parent +\n",
    "    '/best_model/',\n",
    "    log_path=eval_env.simulator._env_working_dir_parent +\n",
    "    '/best_model/',\n",
    "    eval_freq=n_timesteps_episode * 2,\n",
    "    deterministic=True,\n",
    "    render=False,\n",
    "    n_eval_episodes=1)\n",
    "callbacks.append(eval_callback)\n",
    "\n",
    "callback = CallbackList(callbacks)"
   ]
  },
  {
   "attachments": {},
   "cell_type": "markdown",
   "metadata": {},
   "source": [
    "In order to track all the training process in *wandb*, it is necessary to create a callback with a compatible wandb output format (which call *wandb* log method in the learning algorithm process)."
   ]
  },
  {
   "cell_type": "code",
   "execution_count": 11,
   "metadata": {},
   "outputs": [],
   "source": [
    "# wandb logger and setting in SB3\n",
    "logger = Logger(\n",
    "    folder=None,\n",
    "    output_formats=[\n",
    "        HumanOutputFormat(\n",
    "            sys.stdout,\n",
    "            max_length=120),\n",
    "        WandBOutputFormat()])\n",
    "model.set_logger(logger)\n",
    "# Append callback\n",
    "log_callback = LoggerCallback()\n",
    "callbacks.append(log_callback)\n",
    "\n",
    "\n",
    "callback = CallbackList(callbacks)"
   ]
  },
  {
   "cell_type": "markdown",
   "metadata": {
    "collapsed": false
   },
   "source": [
    "This is the number of total time steps for the training."
   ]
  },
  {
   "cell_type": "code",
   "execution_count": 12,
   "metadata": {
    "collapsed": false,
    "pycharm": {
     "name": "#%%\n"
    }
   },
   "outputs": [],
   "source": [
    "timesteps = episodes * n_timesteps_episode"
   ]
  },
  {
   "cell_type": "markdown",
   "metadata": {
    "collapsed": false
   },
   "source": [
    "Now is time to train the model with the callbacks defined earlier. This may take a few minutes, depending on your computer."
   ]
  },
  {
   "cell_type": "code",
   "execution_count": 13,
   "metadata": {
    "collapsed": false,
    "pycharm": {
     "name": "#%%\n"
    }
   },
   "outputs": [
    {
     "name": "stdout",
     "output_type": "stream",
     "text": [
      "[2023-05-12 08:10:34,579] EPLUS_ENV_SB3_DQN-Eplus-demo-v1-episodes-4_2023-05-12_08:09_MainThread_ROOT INFO:Creating new EnergyPlus simulation episode...\n",
      "[2023-05-12 08:10:34,702] EPLUS_ENV_SB3_DQN-Eplus-demo-v1-episodes-4_2023-05-12_08:09_MainThread_ROOT INFO:EnergyPlus working directory is in /workspaces/sinergym/examples/Eplus-env-SB3_DQN-Eplus-demo-v1-episodes-4_2023-05-12_08:09-res1/Eplus-env-sub_run1\n"
     ]
    },
    {
     "name": "stderr",
     "output_type": "stream",
     "text": [
      "/usr/local/lib/python3.10/dist-packages/opyplus/weather_data/weather_data.py:493: FutureWarning: the 'line_terminator'' keyword is deprecated, use 'lineterminator' instead.\n",
      "  epw_content = self._headers_to_epw(use_datetimes=use_datetimes) + df.to_csv(\n"
     ]
    },
    {
     "name": "stdout",
     "output_type": "stream",
     "text": [
      "[2023-05-12 08:10:51,340] EPLUS_ENV_SB3_DQN-Eplus-demo-v1-episodes-4_2023-05-12_08:09_MainThread_ROOT INFO:EnergyPlus episode completed successfully. \n",
      "[2023-05-12 08:10:51,341] EPLUS_ENV_SB3_DQN-Eplus-demo-v1-episodes-4_2023-05-12_08:09_MainThread_ROOT INFO:Creating new EnergyPlus simulation episode...\n",
      "[2023-05-12 08:10:51,455] EPLUS_ENV_SB3_DQN-Eplus-demo-v1-episodes-4_2023-05-12_08:09_MainThread_ROOT INFO:EnergyPlus working directory is in /workspaces/sinergym/examples/Eplus-env-SB3_DQN-Eplus-demo-v1-episodes-4_2023-05-12_08:09-res1/Eplus-env-sub_run2\n",
      "-------------------------------------------------------------------------------------\n",
      "| action/                                                             |             |\n",
      "|    Cooling_Setpoint_RL                                              | 25.5        |\n",
      "|    Heating_Setpoint_RL                                              | 19.1        |\n",
      "| action_simulation/                                                  |             |\n",
      "|    Cooling_Setpoint_RL                                              | 25.5        |\n",
      "|    Heating_Setpoint_RL                                              | 19.1        |\n",
      "| episode/                                                            |             |\n",
      "|    comfort_violation_time(%)                                        | 52.9        |\n",
      "|    cumulative_comfort_penalty                                       | -2.67e+04   |\n",
      "|    cumulative_power                                                 | 2.07e+08    |\n",
      "|    cumulative_power_penalty                                         | -2.07e+04   |\n",
      "|    cumulative_reward                                                | -23691.158  |\n",
      "|    ep_length                                                        | 35040       |\n",
      "|    mean_comfort_penalty                                             | -0.763      |\n",
      "|    mean_power                                                       | 5.9e+03     |\n",
      "|    mean_power_penalty                                               | -0.59       |\n",
      "|    mean_reward                                                      | -0.67611754 |\n",
      "| observation/                                                        |             |\n",
      "|    Facility Total HVAC Electricity Demand Rate(Whole Building)      | 5.9e+03     |\n",
      "|    People Air Temperature(SPACE1-1 PEOPLE 1)                        | 21.2        |\n",
      "|    Site Diffuse Solar Radiation Rate per Area(Environment)          | 73.6        |\n",
      "|    Site Direct Solar Radiation Rate per Area(Environment)           | 115         |\n",
      "|    Site Outdoor Air Drybulb Temperature(Environment)                | 11.2        |\n",
      "|    Site Outdoor Air Relative Humidity(Environment)                  | 71.3        |\n",
      "|    Site Wind Direction(Environment)                                 | 195         |\n",
      "|    Site Wind Speed(Environment)                                     | 3.87        |\n",
      "|    Zone Air Relative Humidity(SPACE1-1)                             | 43.1        |\n",
      "|    Zone Air Temperature(SPACE1-1)                                   | 21.2        |\n",
      "|    Zone People Occupant Count(SPACE1-1)                             | 3.18        |\n",
      "|    Zone Thermal Comfort Clothing Value(SPACE1-1 PEOPLE 1)           | 0.662       |\n",
      "|    Zone Thermal Comfort Fanger Model PPD(SPACE1-1 PEOPLE 1)         | 31.7        |\n",
      "|    Zone Thermal Comfort Mean Radiant Temperature(SPACE1-1 PEOPLE 1) | 21.4        |\n",
      "|    Zone Thermostat Cooling Setpoint Temperature(SPACE1-1)           | 25.5        |\n",
      "|    Zone Thermostat Heating Setpoint Temperature(SPACE1-1)           | 19.1        |\n",
      "|    day                                                              | 15.7        |\n",
      "|    hour                                                             | 11.5        |\n",
      "|    month                                                            | 6.53        |\n",
      "|    year                                                             | 1.99e+03    |\n",
      "| rollout/                                                            |             |\n",
      "|    ep_len_mean                                                      | 3.5e+04     |\n",
      "|    ep_rew_mean                                                      | -2.37e+04   |\n",
      "|    exploration_rate                                                 | 0.05        |\n",
      "| time/                                                               |             |\n",
      "|    episodes                                                         | 1           |\n",
      "|    fps                                                              | 2010        |\n",
      "|    time_elapsed                                                     | 17          |\n",
      "|    total_timesteps                                                  | 35040       |\n",
      "-------------------------------------------------------------------------------------\n",
      "[2023-05-12 08:11:17,857] EPLUS_ENV_SB3_DQN-Eplus-demo-v1-episodes-4_2023-05-12_08:09_MainThread_ROOT INFO:EnergyPlus episode completed successfully. \n",
      "[2023-05-12 08:11:17,859] EPLUS_ENV_SB3_DQN-Eplus-demo-v1-episodes-4_2023-05-12_08:09_MainThread_ROOT INFO:Creating new EnergyPlus simulation episode...\n",
      "[2023-05-12 08:11:17,972] EPLUS_ENV_SB3_DQN-Eplus-demo-v1-episodes-4_2023-05-12_08:09_MainThread_ROOT INFO:EnergyPlus working directory is in /workspaces/sinergym/examples/Eplus-env-SB3_DQN-Eplus-demo-v1-episodes-4_2023-05-12_08:09-res1/Eplus-env-sub_run3\n",
      "[2023-05-12 08:11:18,426] EPLUS_ENV_SB3_DQN-Eplus-demo-v1-episodes-4_2023-05-12_08:09_EVALUATION_MainThread_ROOT INFO:Creating new EnergyPlus simulation episode...\n",
      "[2023-05-12 08:11:18,525] EPLUS_ENV_SB3_DQN-Eplus-demo-v1-episodes-4_2023-05-12_08:09_EVALUATION_MainThread_ROOT INFO:EnergyPlus working directory is in /workspaces/sinergym/examples/Eplus-env-SB3_DQN-Eplus-demo-v1-episodes-4_2023-05-12_08:09_EVALUATION-res1/Eplus-env-sub_run1\n",
      "[2023-05-12 08:11:33,278] EPLUS_ENV_SB3_DQN-Eplus-demo-v1-episodes-4_2023-05-12_08:09_EVALUATION_MainThread_ROOT INFO:EnergyPlus episode completed successfully. \n",
      "[2023-05-12 08:11:33,281] EPLUS_ENV_SB3_DQN-Eplus-demo-v1-episodes-4_2023-05-12_08:09_EVALUATION_MainThread_ROOT INFO:Creating new EnergyPlus simulation episode...\n",
      "[2023-05-12 08:11:33,396] EPLUS_ENV_SB3_DQN-Eplus-demo-v1-episodes-4_2023-05-12_08:09_EVALUATION_MainThread_ROOT INFO:EnergyPlus working directory is in /workspaces/sinergym/examples/Eplus-env-SB3_DQN-Eplus-demo-v1-episodes-4_2023-05-12_08:09_EVALUATION-res1/Eplus-env-sub_run2\n",
      "Eval num_timesteps=70080, episode_reward=-22837.24 +/- 0.00\n",
      "Episode length: 35040.00 +/- 0.00\n",
      "New best mean reward!\n",
      "-------------------------------------------------------------------------------------\n",
      "| action/                                                             |             |\n",
      "|    Cooling_Setpoint_RL                                              | 23.7        |\n",
      "|    Heating_Setpoint_RL                                              | 20.6        |\n",
      "| action_simulation/                                                  |             |\n",
      "|    Cooling_Setpoint_RL                                              | 23.7        |\n",
      "|    Heating_Setpoint_RL                                              | 20.6        |\n",
      "| episode/                                                            |             |\n",
      "|    comfort_violation_time(%)                                        | 46.9        |\n",
      "|    cumulative_comfort_penalty                                       | -1.92e+04   |\n",
      "|    cumulative_power                                                 | 2.62e+08    |\n",
      "|    cumulative_power_penalty                                         | -2.62e+04   |\n",
      "|    cumulative_reward                                                | -22688.65   |\n",
      "|    ep_length                                                        | 35040       |\n",
      "|    mean_comfort_penalty                                             | -0.548      |\n",
      "|    mean_power                                                       | 7.47e+03    |\n",
      "|    mean_power_penalty                                               | -0.747      |\n",
      "|    mean_reward                                                      | -0.64750713 |\n",
      "| eval/                                                               |             |\n",
      "|    comfort_penalty                                                  | -1.52e+04   |\n",
      "|    comfort_violation(%)                                             | 33.4        |\n",
      "|    mean_ep_length                                                   | 3.5e+04     |\n",
      "|    mean_power_consumption                                           | 3.05e+08    |\n",
      "|    mean_rewards                                                     | -22837.236  |\n",
      "|    power_penalty                                                    | -3.05e+04   |\n",
      "|    std_rewards                                                      | 0.0         |\n",
      "| observation/                                                        |             |\n",
      "|    Facility Total HVAC Electricity Demand Rate(Whole Building)      | 7.47e+03    |\n",
      "|    People Air Temperature(SPACE1-1 PEOPLE 1)                        | 21.5        |\n",
      "|    Site Diffuse Solar Radiation Rate per Area(Environment)          | 73.6        |\n",
      "|    Site Direct Solar Radiation Rate per Area(Environment)           | 115         |\n",
      "|    Site Outdoor Air Drybulb Temperature(Environment)                | 11.2        |\n",
      "|    Site Outdoor Air Relative Humidity(Environment)                  | 71.3        |\n",
      "|    Site Wind Direction(Environment)                                 | 195         |\n",
      "|    Site Wind Speed(Environment)                                     | 3.87        |\n",
      "|    Zone Air Relative Humidity(SPACE1-1)                             | 42.2        |\n",
      "|    Zone Air Temperature(SPACE1-1)                                   | 21.5        |\n",
      "|    Zone People Occupant Count(SPACE1-1)                             | 3.18        |\n",
      "|    Zone Thermal Comfort Clothing Value(SPACE1-1 PEOPLE 1)           | 0.662       |\n",
      "|    Zone Thermal Comfort Fanger Model PPD(SPACE1-1 PEOPLE 1)         | 27          |\n",
      "|    Zone Thermal Comfort Mean Radiant Temperature(SPACE1-1 PEOPLE 1) | 21.6        |\n",
      "|    Zone Thermostat Cooling Setpoint Temperature(SPACE1-1)           | 23.7        |\n",
      "|    Zone Thermostat Heating Setpoint Temperature(SPACE1-1)           | 20.6        |\n",
      "|    day                                                              | 15.7        |\n",
      "|    hour                                                             | 11.5        |\n",
      "|    month                                                            | 6.53        |\n",
      "|    year                                                             | 1.99e+03    |\n",
      "| rollout/                                                            |             |\n",
      "|    ep_len_mean                                                      | 3.5e+04     |\n",
      "|    ep_rew_mean                                                      | -2.32e+04   |\n",
      "|    exploration_rate                                                 | 0.05        |\n",
      "| time/                                                               |             |\n",
      "|    episodes                                                         | 2           |\n",
      "|    fps                                                              | 1182        |\n",
      "|    time_elapsed                                                     | 59          |\n",
      "|    total_timesteps                                                  | 70080       |\n",
      "| train/                                                              |             |\n",
      "|    learning_rate                                                    | 0.0001      |\n",
      "|    loss                                                             | 68.6        |\n",
      "|    n_updates                                                        | 5019        |\n",
      "-------------------------------------------------------------------------------------\n",
      "[2023-05-12 08:12:07,578] EPLUS_ENV_SB3_DQN-Eplus-demo-v1-episodes-4_2023-05-12_08:09_MainThread_ROOT INFO:EnergyPlus episode completed successfully. \n",
      "[2023-05-12 08:12:07,579] EPLUS_ENV_SB3_DQN-Eplus-demo-v1-episodes-4_2023-05-12_08:09_MainThread_ROOT INFO:Creating new EnergyPlus simulation episode...\n",
      "[2023-05-12 08:12:07,672] EPLUS_ENV_SB3_DQN-Eplus-demo-v1-episodes-4_2023-05-12_08:09_MainThread_ROOT INFO:EnergyPlus working directory is in /workspaces/sinergym/examples/Eplus-env-SB3_DQN-Eplus-demo-v1-episodes-4_2023-05-12_08:09-res1/Eplus-env-sub_run4\n",
      "------------------------------------------------------------------------------------\n",
      "| action/                                                             |            |\n",
      "|    Cooling_Setpoint_RL                                              | 23.5       |\n",
      "|    Heating_Setpoint_RL                                              | 20.8       |\n",
      "| action_simulation/                                                  |            |\n",
      "|    Cooling_Setpoint_RL                                              | 23.5       |\n",
      "|    Heating_Setpoint_RL                                              | 20.8       |\n",
      "| episode/                                                            |            |\n",
      "|    comfort_violation_time(%)                                        | 35.4       |\n",
      "|    cumulative_comfort_penalty                                       | -1.53e+04  |\n",
      "|    cumulative_power                                                 | 2.98e+08   |\n",
      "|    cumulative_power_penalty                                         | -2.98e+04  |\n",
      "|    cumulative_reward                                                | -22568.717 |\n",
      "|    ep_length                                                        | 35040      |\n",
      "|    mean_comfort_penalty                                             | -0.437     |\n",
      "|    mean_power                                                       | 8.51e+03   |\n",
      "|    mean_power_penalty                                               | -0.851     |\n",
      "|    mean_reward                                                      | -0.6440844 |\n",
      "| observation/                                                        |            |\n",
      "|    Facility Total HVAC Electricity Demand Rate(Whole Building)      | 8.51e+03   |\n",
      "|    People Air Temperature(SPACE1-1 PEOPLE 1)                        | 21.9       |\n",
      "|    Site Diffuse Solar Radiation Rate per Area(Environment)          | 73.6       |\n",
      "|    Site Direct Solar Radiation Rate per Area(Environment)           | 115        |\n",
      "|    Site Outdoor Air Drybulb Temperature(Environment)                | 11.2       |\n",
      "|    Site Outdoor Air Relative Humidity(Environment)                  | 71.3       |\n",
      "|    Site Wind Direction(Environment)                                 | 195        |\n",
      "|    Site Wind Speed(Environment)                                     | 3.87       |\n",
      "|    Zone Air Relative Humidity(SPACE1-1)                             | 41.7       |\n",
      "|    Zone Air Temperature(SPACE1-1)                                   | 21.9       |\n",
      "|    Zone People Occupant Count(SPACE1-1)                             | 3.18       |\n",
      "|    Zone Thermal Comfort Clothing Value(SPACE1-1 PEOPLE 1)           | 0.662      |\n",
      "|    Zone Thermal Comfort Fanger Model PPD(SPACE1-1 PEOPLE 1)         | 23.1       |\n",
      "|    Zone Thermal Comfort Mean Radiant Temperature(SPACE1-1 PEOPLE 1) | 21.9       |\n",
      "|    Zone Thermostat Cooling Setpoint Temperature(SPACE1-1)           | 23.5       |\n",
      "|    Zone Thermostat Heating Setpoint Temperature(SPACE1-1)           | 20.8       |\n",
      "|    day                                                              | 15.7       |\n",
      "|    hour                                                             | 11.5       |\n",
      "|    month                                                            | 6.53       |\n",
      "|    year                                                             | 1.99e+03   |\n",
      "| rollout/                                                            |            |\n",
      "|    ep_len_mean                                                      | 3.5e+04    |\n",
      "|    ep_rew_mean                                                      | -2.3e+04   |\n",
      "|    exploration_rate                                                 | 0.05       |\n",
      "| time/                                                               |            |\n",
      "|    episodes                                                         | 3          |\n",
      "|    fps                                                              | 1123       |\n",
      "|    time_elapsed                                                     | 93         |\n",
      "|    total_timesteps                                                  | 105120     |\n",
      "| train/                                                              |            |\n",
      "|    learning_rate                                                    | 0.0001     |\n",
      "|    loss                                                             | 11.4       |\n",
      "|    n_updates                                                        | 13779      |\n",
      "------------------------------------------------------------------------------------\n",
      "[2023-05-12 08:12:42,867] EPLUS_ENV_SB3_DQN-Eplus-demo-v1-episodes-4_2023-05-12_08:09_MainThread_ROOT INFO:EnergyPlus episode completed successfully. \n",
      "[2023-05-12 08:12:42,868] EPLUS_ENV_SB3_DQN-Eplus-demo-v1-episodes-4_2023-05-12_08:09_MainThread_ROOT INFO:Creating new EnergyPlus simulation episode...\n",
      "[2023-05-12 08:12:42,970] EPLUS_ENV_SB3_DQN-Eplus-demo-v1-episodes-4_2023-05-12_08:09_MainThread_ROOT INFO:EnergyPlus working directory is in /workspaces/sinergym/examples/Eplus-env-SB3_DQN-Eplus-demo-v1-episodes-4_2023-05-12_08:09-res1/Eplus-env-sub_run5\n",
      "[2023-05-12 08:12:47,402] EPLUS_ENV_SB3_DQN-Eplus-demo-v1-episodes-4_2023-05-12_08:09_EVALUATION_MainThread_ROOT INFO:EnergyPlus episode completed successfully. \n",
      "[2023-05-12 08:12:47,403] EPLUS_ENV_SB3_DQN-Eplus-demo-v1-episodes-4_2023-05-12_08:09_EVALUATION_MainThread_ROOT INFO:Creating new EnergyPlus simulation episode...\n",
      "[2023-05-12 08:12:47,516] EPLUS_ENV_SB3_DQN-Eplus-demo-v1-episodes-4_2023-05-12_08:09_EVALUATION_MainThread_ROOT INFO:EnergyPlus working directory is in /workspaces/sinergym/examples/Eplus-env-SB3_DQN-Eplus-demo-v1-episodes-4_2023-05-12_08:09_EVALUATION-res1/Eplus-env-sub_run3\n",
      "[2023-05-12 08:13:03,797] EPLUS_ENV_SB3_DQN-Eplus-demo-v1-episodes-4_2023-05-12_08:09_EVALUATION_MainThread_ROOT INFO:EnergyPlus episode completed successfully. \n",
      "[2023-05-12 08:13:03,798] EPLUS_ENV_SB3_DQN-Eplus-demo-v1-episodes-4_2023-05-12_08:09_EVALUATION_MainThread_ROOT INFO:Creating new EnergyPlus simulation episode...\n",
      "[2023-05-12 08:13:03,898] EPLUS_ENV_SB3_DQN-Eplus-demo-v1-episodes-4_2023-05-12_08:09_EVALUATION_MainThread_ROOT INFO:EnergyPlus working directory is in /workspaces/sinergym/examples/Eplus-env-SB3_DQN-Eplus-demo-v1-episodes-4_2023-05-12_08:09_EVALUATION-res1/Eplus-env-sub_run4\n",
      "Eval num_timesteps=140160, episode_reward=-23888.27 +/- 0.00\n",
      "Episode length: 35040.00 +/- 0.00\n",
      "------------------------------------------------------------------------------------\n",
      "| action/                                                             |            |\n",
      "|    Cooling_Setpoint_RL                                              | 24         |\n",
      "|    Heating_Setpoint_RL                                              | 20.3       |\n",
      "| action_simulation/                                                  |            |\n",
      "|    Cooling_Setpoint_RL                                              | 24         |\n",
      "|    Heating_Setpoint_RL                                              | 20.3       |\n",
      "| episode/                                                            |            |\n",
      "|    comfort_violation_time(%)                                        | 35.5       |\n",
      "|    cumulative_comfort_penalty                                       | -1.82e+04  |\n",
      "|    cumulative_power                                                 | 2.89e+08   |\n",
      "|    cumulative_power_penalty                                         | -2.89e+04  |\n",
      "|    cumulative_reward                                                | -23528.36  |\n",
      "|    ep_length                                                        | 35040      |\n",
      "|    mean_comfort_penalty                                             | -0.518     |\n",
      "|    mean_power                                                       | 8.25e+03   |\n",
      "|    mean_power_penalty                                               | -0.825     |\n",
      "|    mean_reward                                                      | -0.6714714 |\n",
      "| eval/                                                               |            |\n",
      "|    comfort_penalty                                                  | -1.76e+04  |\n",
      "|    comfort_violation(%)                                             | 34.8       |\n",
      "|    mean_ep_length                                                   | 3.5e+04    |\n",
      "|    mean_power_consumption                                           | 3.01e+08   |\n",
      "|    mean_rewards                                                     | -23888.273 |\n",
      "|    power_penalty                                                    | -3.01e+04  |\n",
      "|    std_rewards                                                      | 0.0        |\n",
      "| observation/                                                        |            |\n",
      "|    Facility Total HVAC Electricity Demand Rate(Whole Building)      | 8.25e+03   |\n",
      "|    People Air Temperature(SPACE1-1 PEOPLE 1)                        | 21.7       |\n",
      "|    Site Diffuse Solar Radiation Rate per Area(Environment)          | 73.6       |\n",
      "|    Site Direct Solar Radiation Rate per Area(Environment)           | 115        |\n",
      "|    Site Outdoor Air Drybulb Temperature(Environment)                | 11.2       |\n",
      "|    Site Outdoor Air Relative Humidity(Environment)                  | 71.3       |\n",
      "|    Site Wind Direction(Environment)                                 | 195        |\n",
      "|    Site Wind Speed(Environment)                                     | 3.87       |\n",
      "|    Zone Air Relative Humidity(SPACE1-1)                             | 42         |\n",
      "|    Zone Air Temperature(SPACE1-1)                                   | 21.7       |\n",
      "|    Zone People Occupant Count(SPACE1-1)                             | 3.18       |\n",
      "|    Zone Thermal Comfort Clothing Value(SPACE1-1 PEOPLE 1)           | 0.662      |\n",
      "|    Zone Thermal Comfort Fanger Model PPD(SPACE1-1 PEOPLE 1)         | 25.1       |\n",
      "|    Zone Thermal Comfort Mean Radiant Temperature(SPACE1-1 PEOPLE 1) | 21.7       |\n",
      "|    Zone Thermostat Cooling Setpoint Temperature(SPACE1-1)           | 24         |\n",
      "|    Zone Thermostat Heating Setpoint Temperature(SPACE1-1)           | 20.3       |\n",
      "|    day                                                              | 15.7       |\n",
      "|    hour                                                             | 11.5       |\n",
      "|    month                                                            | 6.53       |\n",
      "|    year                                                             | 1.99e+03   |\n",
      "| rollout/                                                            |            |\n",
      "|    ep_len_mean                                                      | 3.5e+04    |\n",
      "|    ep_rew_mean                                                      | -2.31e+04  |\n",
      "|    exploration_rate                                                 | 0.05       |\n",
      "| time/                                                               |            |\n",
      "|    episodes                                                         | 4          |\n",
      "|    fps                                                              | 935        |\n",
      "|    time_elapsed                                                     | 149        |\n",
      "|    total_timesteps                                                  | 140160     |\n",
      "| train/                                                              |            |\n",
      "|    learning_rate                                                    | 0.0001     |\n",
      "|    loss                                                             | 10.3       |\n",
      "|    n_updates                                                        | 22539      |\n",
      "------------------------------------------------------------------------------------\n"
     ]
    },
    {
     "data": {
      "text/plain": [
       "<stable_baselines3.dqn.dqn.DQN at 0x7f8621b0ed70>"
      ]
     },
     "execution_count": 13,
     "metadata": {},
     "output_type": "execute_result"
    }
   ],
   "source": [
    "model.learn(\n",
    "    total_timesteps=timesteps,\n",
    "    callback=callback,\n",
    "    log_interval=1)"
   ]
  },
  {
   "cell_type": "markdown",
   "metadata": {
    "collapsed": false
   },
   "source": [
    "Now, we save the current model (model version when training has finished)."
   ]
  },
  {
   "cell_type": "code",
   "execution_count": 14,
   "metadata": {
    "collapsed": false,
    "pycharm": {
     "name": "#%%\n"
    }
   },
   "outputs": [],
   "source": [
    "model.save(env.simulator._env_working_dir_parent + '/' + experiment_name)"
   ]
  },
  {
   "cell_type": "markdown",
   "metadata": {
    "collapsed": false
   },
   "source": [
    "And as always, remember to close the environment."
   ]
  },
  {
   "cell_type": "code",
   "execution_count": 15,
   "metadata": {
    "collapsed": false,
    "pycharm": {
     "name": "#%%\n"
    }
   },
   "outputs": [
    {
     "name": "stderr",
     "output_type": "stream",
     "text": [
      "/usr/local/lib/python3.10/dist-packages/numpy/core/fromnumeric.py:3464: RuntimeWarning: Mean of empty slice.\n",
      "  return _methods._mean(a, axis=axis, dtype=dtype,\n",
      "/usr/local/lib/python3.10/dist-packages/numpy/core/_methods.py:192: RuntimeWarning: invalid value encountered in scalar divide\n",
      "  ret = ret.dtype.type(ret / rcount)\n",
      "/usr/local/lib/python3.10/dist-packages/numpy/core/_methods.py:269: RuntimeWarning: Degrees of freedom <= 0 for slice\n",
      "  ret = _var(a, axis=axis, dtype=dtype, out=out, ddof=ddof,\n",
      "/usr/local/lib/python3.10/dist-packages/numpy/core/_methods.py:226: RuntimeWarning: invalid value encountered in divide\n",
      "  arrmean = um.true_divide(arrmean, div, out=arrmean,\n",
      "/usr/local/lib/python3.10/dist-packages/numpy/core/_methods.py:261: RuntimeWarning: invalid value encountered in scalar divide\n",
      "  ret = ret.dtype.type(ret / rcount)\n"
     ]
    },
    {
     "name": "stdout",
     "output_type": "stream",
     "text": [
      "[2023-05-12 08:13:54,656] EPLUS_ENV_SB3_DQN-Eplus-demo-v1-episodes-4_2023-05-12_08:09_MainThread_ROOT INFO:EnergyPlus simulation closed successfully. \n"
     ]
    }
   ],
   "source": [
    "env.close()"
   ]
  },
  {
   "attachments": {},
   "cell_type": "markdown",
   "metadata": {},
   "source": [
    "We have to upload all Sinergym output as *wandb* artifact. This output include all sinergym_output (and LoggerWrapper CSV files) and models generated in training and evaluation episodes."
   ]
  },
  {
   "cell_type": "code",
   "execution_count": 16,
   "metadata": {},
   "outputs": [
    {
     "name": "stderr",
     "output_type": "stream",
     "text": [
      "\u001b[34m\u001b[1mwandb\u001b[0m: Adding directory to artifact (/workspaces/sinergym/examples/Eplus-env-SB3_DQN-Eplus-demo-v1-episodes-4_2023-05-12_08:09-res1)... Done. 0.1s\n",
      "\u001b[34m\u001b[1mwandb\u001b[0m: Adding directory to artifact (/workspaces/sinergym/examples/Eplus-env-SB3_DQN-Eplus-demo-v1-episodes-4_2023-05-12_08:09_EVALUATION-res1)... Done. 0.0s\n"
     ]
    },
    {
     "data": {
      "text/html": [
       "Waiting for W&B process to finish... <strong style=\"color:green\">(success).</strong>"
      ],
      "text/plain": [
       "<IPython.core.display.HTML object>"
      ]
     },
     "metadata": {},
     "output_type": "display_data"
    },
    {
     "data": {
      "text/html": [
       "<style>\n",
       "    table.wandb td:nth-child(1) { padding: 0 10px; text-align: left ; width: auto;} td:nth-child(2) {text-align: left ; width: 100%}\n",
       "    .wandb-row { display: flex; flex-direction: row; flex-wrap: wrap; justify-content: flex-start; width: 100% }\n",
       "    .wandb-col { display: flex; flex-direction: column; flex-basis: 100%; flex: 1; padding: 10px; }\n",
       "    </style>\n",
       "<div class=\"wandb-row\"><div class=\"wandb-col\"><h3>Run history:</h3><br/><table class=\"wandb\"><tr><td>action/Cooling_Setpoint_RL</td><td>█▂▁▃</td></tr><tr><td>action/Heating_Setpoint_RL</td><td>▁▇█▆</td></tr><tr><td>action_simulation/Cooling_Setpoint_RL</td><td>█▂▁▃</td></tr><tr><td>action_simulation/Heating_Setpoint_RL</td><td>▁▇█▆</td></tr><tr><td>episode/comfort_violation_time(%)</td><td>█▆▁▁</td></tr><tr><td>episode/cumulative_comfort_penalty</td><td>▁▆█▆</td></tr><tr><td>episode/cumulative_power</td><td>▁▅█▇</td></tr><tr><td>episode/cumulative_power_penalty</td><td>█▄▁▂</td></tr><tr><td>episode/cumulative_reward</td><td>▁▇█▂</td></tr><tr><td>episode/ep_length</td><td>▁▁▁▁</td></tr><tr><td>episode/mean_comfort_penalty</td><td>▁▆█▆</td></tr><tr><td>episode/mean_power</td><td>▁▅█▇</td></tr><tr><td>episode/mean_power_penalty</td><td>█▄▁▂</td></tr><tr><td>episode/mean_reward</td><td>▁▇█▂</td></tr><tr><td>eval/comfort_penalty</td><td>█▁</td></tr><tr><td>eval/comfort_violation(%)</td><td>▁█</td></tr><tr><td>eval/mean_ep_length</td><td>▁▁</td></tr><tr><td>eval/mean_power_consumption</td><td>█▁</td></tr><tr><td>eval/mean_rewards</td><td>█▁</td></tr><tr><td>eval/power_penalty</td><td>▁█</td></tr><tr><td>eval/std_rewards</td><td>▁▁</td></tr><tr><td>observation/Facility Total HVAC Electricity Demand Rate(Whole Building)</td><td>▁▅█▇</td></tr><tr><td>observation/People Air Temperature(SPACE1-1 PEOPLE 1)</td><td>▁▄█▆</td></tr><tr><td>observation/Site Diffuse Solar Radiation Rate per Area(Environment)</td><td>▁▁▁▁</td></tr><tr><td>observation/Site Direct Solar Radiation Rate per Area(Environment)</td><td>▁▁▁▁</td></tr><tr><td>observation/Site Outdoor Air Drybulb Temperature(Environment)</td><td>▁▁▁▁</td></tr><tr><td>observation/Site Outdoor Air Relative Humidity(Environment)</td><td>▁▁▁▁</td></tr><tr><td>observation/Site Wind Direction(Environment)</td><td>▁▁▁▁</td></tr><tr><td>observation/Site Wind Speed(Environment)</td><td>▁▁▁▁</td></tr><tr><td>observation/Zone Air Relative Humidity(SPACE1-1)</td><td>█▄▁▂</td></tr><tr><td>observation/Zone Air Temperature(SPACE1-1)</td><td>▁▄█▆</td></tr><tr><td>observation/Zone People Occupant Count(SPACE1-1)</td><td>▁▁▁▁</td></tr><tr><td>observation/Zone Thermal Comfort Clothing Value(SPACE1-1 PEOPLE 1)</td><td>▁▁▁▁</td></tr><tr><td>observation/Zone Thermal Comfort Fanger Model PPD(SPACE1-1 PEOPLE 1)</td><td>█▄▁▃</td></tr><tr><td>observation/Zone Thermal Comfort Mean Radiant Temperature(SPACE1-1 PEOPLE 1)</td><td>▁▄█▆</td></tr><tr><td>observation/Zone Thermostat Cooling Setpoint Temperature(SPACE1-1)</td><td>█▂▁▃</td></tr><tr><td>observation/Zone Thermostat Heating Setpoint Temperature(SPACE1-1)</td><td>▁▇█▆</td></tr><tr><td>observation/day</td><td>▁▁▁▁</td></tr><tr><td>observation/hour</td><td>▁▁▁▁</td></tr><tr><td>observation/month</td><td>▁▁▁▁</td></tr><tr><td>observation/year</td><td>▁▁▁▁</td></tr><tr><td>rollout/ep_len_mean</td><td>▁▁▁▁</td></tr><tr><td>rollout/ep_rew_mean</td><td>▁▆█▇</td></tr><tr><td>rollout/exploration_rate</td><td>▁▁▁▁</td></tr><tr><td>time/episodes</td><td>▁▃▆█</td></tr><tr><td>time/fps</td><td>█▃▂▁</td></tr><tr><td>time/time_elapsed</td><td>▁▃▅█</td></tr><tr><td>time/total_timesteps</td><td>▁▃▆█</td></tr><tr><td>train/learning_rate</td><td>▁▁▁</td></tr><tr><td>train/loss</td><td>█▁▁</td></tr><tr><td>train/n_updates</td><td>▁▅█</td></tr></table><br/></div><div class=\"wandb-col\"><h3>Run summary:</h3><br/><table class=\"wandb\"><tr><td>action/Cooling_Setpoint_RL</td><td>23.99144</td></tr><tr><td>action/Heating_Setpoint_RL</td><td>20.27862</td></tr><tr><td>action_simulation/Cooling_Setpoint_RL</td><td>23.99144</td></tr><tr><td>action_simulation/Heating_Setpoint_RL</td><td>20.27862</td></tr><tr><td>episode/comfort_violation_time(%)</td><td>35.48231</td></tr><tr><td>episode/cumulative_comfort_penalty</td><td>-18159.35798</td></tr><tr><td>episode/cumulative_power</td><td>288973628.85792</td></tr><tr><td>episode/cumulative_power_penalty</td><td>-28897.36289</td></tr><tr><td>episode/cumulative_reward</td><td>-23528.35938</td></tr><tr><td>episode/ep_length</td><td>35040</td></tr><tr><td>episode/mean_comfort_penalty</td><td>-0.51825</td></tr><tr><td>episode/mean_power</td><td>8246.96429</td></tr><tr><td>episode/mean_power_penalty</td><td>-0.8247</td></tr><tr><td>episode/mean_reward</td><td>-0.67147</td></tr><tr><td>eval/comfort_penalty</td><td>-17634.41873</td></tr><tr><td>eval/comfort_violation(%)</td><td>34.79737</td></tr><tr><td>eval/mean_ep_length</td><td>35040.0</td></tr><tr><td>eval/mean_power_consumption</td><td>301417581.06483</td></tr><tr><td>eval/mean_rewards</td><td>-23888.27344</td></tr><tr><td>eval/power_penalty</td><td>-30141.75811</td></tr><tr><td>eval/std_rewards</td><td>0.0</td></tr><tr><td>observation/Facility Total HVAC Electricity Demand Rate(Whole Building)</td><td>8246.8407</td></tr><tr><td>observation/People Air Temperature(SPACE1-1 PEOPLE 1)</td><td>21.70882</td></tr><tr><td>observation/Site Diffuse Solar Radiation Rate per Area(Environment)</td><td>73.57191</td></tr><tr><td>observation/Site Direct Solar Radiation Rate per Area(Environment)</td><td>115.15166</td></tr><tr><td>observation/Site Outdoor Air Drybulb Temperature(Environment)</td><td>11.24046</td></tr><tr><td>observation/Site Outdoor Air Relative Humidity(Environment)</td><td>71.29315</td></tr><tr><td>observation/Site Wind Direction(Environment)</td><td>194.72517</td></tr><tr><td>observation/Site Wind Speed(Environment)</td><td>3.86764</td></tr><tr><td>observation/Zone Air Relative Humidity(SPACE1-1)</td><td>41.9551</td></tr><tr><td>observation/Zone Air Temperature(SPACE1-1)</td><td>21.70942</td></tr><tr><td>observation/Zone People Occupant Count(SPACE1-1)</td><td>3.17908</td></tr><tr><td>observation/Zone Thermal Comfort Clothing Value(SPACE1-1 PEOPLE 1)</td><td>0.66228</td></tr><tr><td>observation/Zone Thermal Comfort Fanger Model PPD(SPACE1-1 PEOPLE 1)</td><td>25.06222</td></tr><tr><td>observation/Zone Thermal Comfort Mean Radiant Temperature(SPACE1-1 PEOPLE 1)</td><td>21.73378</td></tr><tr><td>observation/Zone Thermostat Cooling Setpoint Temperature(SPACE1-1)</td><td>23.99147</td></tr><tr><td>observation/Zone Thermostat Heating Setpoint Temperature(SPACE1-1)</td><td>20.27862</td></tr><tr><td>observation/day</td><td>15.72055</td></tr><tr><td>observation/hour</td><td>11.5</td></tr><tr><td>observation/month</td><td>6.52603</td></tr><tr><td>observation/year</td><td>1991.0</td></tr><tr><td>rollout/ep_len_mean</td><td>35040.0</td></tr><tr><td>rollout/ep_rew_mean</td><td>-23119.22194</td></tr><tr><td>rollout/exploration_rate</td><td>0.05</td></tr><tr><td>time/episodes</td><td>4</td></tr><tr><td>time/fps</td><td>935</td></tr><tr><td>time/time_elapsed</td><td>149</td></tr><tr><td>time/total_timesteps</td><td>140160</td></tr><tr><td>train/learning_rate</td><td>0.0001</td></tr><tr><td>train/loss</td><td>10.30116</td></tr><tr><td>train/n_updates</td><td>22539</td></tr></table><br/></div></div>"
      ],
      "text/plain": [
       "<IPython.core.display.HTML object>"
      ]
     },
     "metadata": {},
     "output_type": "display_data"
    },
    {
     "data": {
      "text/html": [
       " View run <strong style=\"color:#cdcd00\">SB3_DQN-Eplus-demo-v1-episodes-4_2023-05-12_08:09_ec8q8oru</strong> at: <a href='https://wandb.ai/alex_ugr/sinergym/runs/x3br0zvv' target=\"_blank\">https://wandb.ai/alex_ugr/sinergym/runs/x3br0zvv</a><br/>Synced 5 W&B file(s), 0 media file(s), 180 artifact file(s) and 0 other file(s)"
      ],
      "text/plain": [
       "<IPython.core.display.HTML object>"
      ]
     },
     "metadata": {},
     "output_type": "display_data"
    },
    {
     "data": {
      "text/html": [
       "Find logs at: <code>./wandb/run-20230512_080955-x3br0zvv/logs</code>"
      ],
      "text/plain": [
       "<IPython.core.display.HTML object>"
      ]
     },
     "metadata": {},
     "output_type": "display_data"
    }
   ],
   "source": [
    "artifact = wandb.Artifact(\n",
    "        name=\"training\",\n",
    "        type=\"experiment1\")\n",
    "artifact.add_dir(\n",
    "        env.simulator._env_working_dir_parent,\n",
    "        name='training_output/')\n",
    "artifact.add_dir(\n",
    "    eval_env.simulator._env_working_dir_parent,\n",
    "    name='evaluation_output/')\n",
    "run.log_artifact(artifact)\n",
    "\n",
    "# wandb has finished\n",
    "run.finish()"
   ]
  },
  {
   "attachments": {},
   "cell_type": "markdown",
   "metadata": {},
   "source": [
    "We have all the experiments results in our local computer, but we can see the execution in *wandb* too:\n",
    "\n",
    "\n",
    "- If we check our projects, we can see the execution allocated:\n",
    "\n",
    "![wandb_projects1](https://github.com/ugr-sail/sinergym/blob/main/images/wandb_projects1.png?raw=true)\n",
    "\n",
    "\n",
    "- Hyperparameters tracked in the training experiment:\n",
    "\n",
    "![wandb_training_hyperparameters](https://github.com/ugr-sail/sinergym/blob/main/images/wandb_training_hyperparameters.png?raw=true)\n",
    "\n",
    "\n",
    "\n",
    "- Artifacts registered (if evaluation is enabled, best model is registered too):\n",
    "  \n",
    "![wandb_training_artifact](https://github.com/ugr-sail/sinergym/blob/main/images/wandb_training_artifact.png?raw=true)\n",
    "\n",
    "\n",
    "\n",
    "- Visualization of metrics in real time:\n",
    "  \n",
    "![wandb_training_charts](https://github.com/ugr-sail/sinergym/blob/main/images/wandb_training_charts.png?raw=true)"
   ]
  },
  {
   "attachments": {},
   "cell_type": "markdown",
   "metadata": {},
   "source": [
    "## Loading a model"
   ]
  },
  {
   "attachments": {},
   "cell_type": "markdown",
   "metadata": {},
   "source": [
    "We are going to rely on the script available in the repository root called `load_agent.py`. This script applies all the possibilities that Sinergym has to work with deep reinforcement learning models loaded and set parameters to everything so that we can define the load options from the execution of the script easily by a JSON file.\n",
    "\n",
    "For more information about how run `load_agent.py`, please, see [Load a trained model](https://ugr-sail.github.io/sinergym/compilation/main/pages/deep-reinforcement-learning.html#load-a-trained-model)."
   ]
  },
  {
   "attachments": {},
   "cell_type": "markdown",
   "metadata": {},
   "source": [
    "First we define the Sinergym environment ID where we want to check the loaded agent and the name of the evaluation experiment."
   ]
  },
  {
   "cell_type": "code",
   "execution_count": 17,
   "metadata": {},
   "outputs": [],
   "source": [
    "# Environment ID\n",
    "environment = \"Eplus-demo-v1\"\n",
    "# Episodes\n",
    "episodes=5\n",
    "# Evaluation name\n",
    "evaluation_date = datetime.today().strftime('%Y-%m-%d_%H:%M')\n",
    "evaluation_name = 'SB3_DQN-EVAL-' + environment + \\\n",
    "    '-episodes-' + str(episodes)\n",
    "evaluation_name += '_' + evaluation_date"
   ]
  },
  {
   "attachments": {},
   "cell_type": "markdown",
   "metadata": {},
   "source": [
    "We can also use *wandb* here. We can allocate this evaluation of a loaded model in other project in order to not merge experiments. "
   ]
  },
  {
   "cell_type": "code",
   "execution_count": 18,
   "metadata": {},
   "outputs": [
    {
     "data": {
      "text/html": [
       "Tracking run with wandb version 0.15.2"
      ],
      "text/plain": [
       "<IPython.core.display.HTML object>"
      ]
     },
     "metadata": {},
     "output_type": "display_data"
    },
    {
     "data": {
      "text/html": [
       "Run data is saved locally in <code>/workspaces/sinergym/examples/wandb/run-20230512_081443-0ce5qs8f</code>"
      ],
      "text/plain": [
       "<IPython.core.display.HTML object>"
      ]
     },
     "metadata": {},
     "output_type": "display_data"
    },
    {
     "data": {
      "text/html": [
       "Syncing run <strong><a href='https://wandb.ai/alex_ugr/sinergym_evaluations/runs/0ce5qs8f' target=\"_blank\">SB3_DQN-Eplus-demo-v1-episodes-4_2023-05-12_08:09_c5yme0bh</a></strong> to <a href='https://wandb.ai/alex_ugr/sinergym_evaluations' target=\"_blank\">Weights & Biases</a> (<a href='https://wandb.me/run' target=\"_blank\">docs</a>)<br/>"
      ],
      "text/plain": [
       "<IPython.core.display.HTML object>"
      ]
     },
     "metadata": {},
     "output_type": "display_data"
    },
    {
     "data": {
      "text/html": [
       " View project at <a href='https://wandb.ai/alex_ugr/sinergym_evaluations' target=\"_blank\">https://wandb.ai/alex_ugr/sinergym_evaluations</a>"
      ],
      "text/plain": [
       "<IPython.core.display.HTML object>"
      ]
     },
     "metadata": {},
     "output_type": "display_data"
    },
    {
     "data": {
      "text/html": [
       " View run at <a href='https://wandb.ai/alex_ugr/sinergym_evaluations/runs/0ce5qs8f' target=\"_blank\">https://wandb.ai/alex_ugr/sinergym_evaluations/runs/0ce5qs8f</a>"
      ],
      "text/plain": [
       "<IPython.core.display.HTML object>"
      ]
     },
     "metadata": {},
     "output_type": "display_data"
    }
   ],
   "source": [
    "\n",
    "# Create wandb.config object in order to log all experiment params\n",
    "experiment_params = {\n",
    "    'sinergym-version': sinergym.__version__,\n",
    "    'python-version': sys.version\n",
    "}\n",
    "experiment_params.update({'environment':environment,\n",
    "                          'episodes':episodes,\n",
    "                          'algorithm':'SB3_DQN'})\n",
    "\n",
    "# Get wandb init params (you have to specify your own project and entity)\n",
    "wandb_params = {\"project\": 'sinergym_evaluations',\n",
    "                \"entity\": 'alex_ugr'}\n",
    "# Init wandb entry\n",
    "run = wandb.init(\n",
    "    name=experiment_name + '_' + wandb.util.generate_id(),\n",
    "    config=experiment_params,\n",
    "    ** wandb_params\n",
    ")"
   ]
  },
  {
   "attachments": {},
   "cell_type": "markdown",
   "metadata": {},
   "source": [
    "We make the gymnasium environment and wrap with LoggerWrapper. We can use the evaluation experiment name to rename the environment."
   ]
  },
  {
   "cell_type": "code",
   "execution_count": 19,
   "metadata": {},
   "outputs": [
    {
     "name": "stdout",
     "output_type": "stream",
     "text": [
      "[2023-05-12 08:14:47,821] EPLUS_ENV_SB3_DQN-EVAL-Eplus-demo-v1-episodes-5_2023-05-12_08:14_MainThread_ROOT INFO:Updating idf ExternalInterface object if it is not present...\n",
      "[2023-05-12 08:14:47,823] EPLUS_ENV_SB3_DQN-EVAL-Eplus-demo-v1-episodes-5_2023-05-12_08:14_MainThread_ROOT INFO:Updating idf Site:Location and SizingPeriod:DesignDay(s) to weather and ddy file...\n",
      "[2023-05-12 08:14:47,825] EPLUS_ENV_SB3_DQN-EVAL-Eplus-demo-v1-episodes-5_2023-05-12_08:14_MainThread_ROOT INFO:Updating idf OutPut:Variable and variables XML tree model for BVCTB connection.\n",
      "[2023-05-12 08:14:47,826] EPLUS_ENV_SB3_DQN-EVAL-Eplus-demo-v1-episodes-5_2023-05-12_08:14_MainThread_ROOT INFO:Setting up extra configuration in building model if exists...\n",
      "[2023-05-12 08:14:47,826] EPLUS_ENV_SB3_DQN-EVAL-Eplus-demo-v1-episodes-5_2023-05-12_08:14_MainThread_ROOT INFO:Setting up action definition in building model if exists...\n"
     ]
    }
   ],
   "source": [
    "env=gym.make(environment, env_name=evaluation_name)\n",
    "env=LoggerWrapper(env)"
   ]
  },
  {
   "attachments": {},
   "cell_type": "markdown",
   "metadata": {},
   "source": [
    "We load the Stable Baselines 3 DQN model using the model allocated in our local computer, although we can use a remote model allocated in *wandb* from other training experiment."
   ]
  },
  {
   "cell_type": "code",
   "execution_count": 20,
   "metadata": {},
   "outputs": [],
   "source": [
    "# get wandb artifact path (to load model)\n",
    "load_artifact_entity = 'alex_ugr'\n",
    "load_artifact_project = 'sinergym'\n",
    "load_artifact_name = 'training'\n",
    "load_artifact_tag = 'latest'\n",
    "load_artifact_model_path = 'evaluation_output/best_model/model.zip'\n",
    "wandb_path = load_artifact_entity + '/' + load_artifact_project + \\\n",
    "    '/' + load_artifact_name + ':' + load_artifact_tag\n",
    "# Download artifact\n",
    "artifact = run.use_artifact(wandb_path)\n",
    "artifact.get_path(load_artifact_model_path).download('.')\n",
    "# Set model path to local wandb file downloaded\n",
    "model_path = './' + load_artifact_model_path\n",
    "model = DQN.load(model_path)"
   ]
  },
  {
   "attachments": {},
   "cell_type": "markdown",
   "metadata": {},
   "source": [
    "As we can see, The *wandb* model we want to load can come from an artifact of an different entity or project from the one we are using to register the evaluation of the loaded model, as long as it is accessible.\n",
    "The next step is use the model to predict actions and interact with the environment in order to collect data to evaluate the model."
   ]
  },
  {
   "cell_type": "code",
   "execution_count": 21,
   "metadata": {},
   "outputs": [
    {
     "name": "stdout",
     "output_type": "stream",
     "text": [
      "[2023-05-12 08:14:56,387] EPLUS_ENV_SB3_DQN-EVAL-Eplus-demo-v1-episodes-5_2023-05-12_08:14_MainThread_ROOT INFO:Creating new EnergyPlus simulation episode...\n",
      "[2023-05-12 08:14:56,505] EPLUS_ENV_SB3_DQN-EVAL-Eplus-demo-v1-episodes-5_2023-05-12_08:14_MainThread_ROOT INFO:EnergyPlus working directory is in /workspaces/sinergym/examples/Eplus-env-SB3_DQN-EVAL-Eplus-demo-v1-episodes-5_2023-05-12_08:14-res1/Eplus-env-sub_run1\n"
     ]
    },
    {
     "name": "stderr",
     "output_type": "stream",
     "text": [
      "/usr/local/lib/python3.10/dist-packages/opyplus/weather_data/weather_data.py:493: FutureWarning: the 'line_terminator'' keyword is deprecated, use 'lineterminator' instead.\n",
      "  epw_content = self._headers_to_epw(use_datetimes=use_datetimes) + df.to_csv(\n"
     ]
    },
    {
     "name": "stdout",
     "output_type": "stream",
     "text": [
      "1 -1.086220480544118\n",
      "2 -2074.836948171719\n",
      "3 -4059.4601290019386\n",
      "4 -5301.773081602943\n",
      "5 -6197.500164619787\n",
      "6 -7052.728090248314\n",
      "7 -9947.411251537349\n",
      "8 -13119.209944511926\n",
      "9 -16243.255292131738\n",
      "10 -18927.623952292313\n",
      "11 -19647.557278969998\n",
      "12 -20657.03263579537\n",
      "1 -22757.151610092187\n",
      "Episode  0 Mean reward:  -0.6494620893291192 Cumulative reward:  -22757.151610092187\n",
      "[2023-05-12 08:15:11,700] EPLUS_ENV_SB3_DQN-EVAL-Eplus-demo-v1-episodes-5_2023-05-12_08:14_MainThread_ROOT INFO:EnergyPlus episode completed successfully. \n",
      "[2023-05-12 08:15:11,701] EPLUS_ENV_SB3_DQN-EVAL-Eplus-demo-v1-episodes-5_2023-05-12_08:14_MainThread_ROOT INFO:Creating new EnergyPlus simulation episode...\n",
      "[2023-05-12 08:15:11,804] EPLUS_ENV_SB3_DQN-EVAL-Eplus-demo-v1-episodes-5_2023-05-12_08:14_MainThread_ROOT INFO:EnergyPlus working directory is in /workspaces/sinergym/examples/Eplus-env-SB3_DQN-EVAL-Eplus-demo-v1-episodes-5_2023-05-12_08:14-res1/Eplus-env-sub_run2\n",
      "1 -1.086220480544118\n",
      "2 -2077.333491640073\n",
      "3 -4062.4399927502623\n",
      "4 -5310.450834440494\n",
      "5 -6206.785408389694\n",
      "6 -7060.404177988676\n",
      "7 -9957.909978484144\n",
      "8 -13130.88158033286\n",
      "9 -16209.249484788459\n",
      "10 -18877.02908045908\n",
      "11 -19594.05556553261\n",
      "12 -20603.049165489065\n",
      "1 -22695.690184167986\n",
      "Episode  1 Mean reward:  -0.6477080532011447 Cumulative reward:  -22695.690184167986\n",
      "[2023-05-12 08:15:27,182] EPLUS_ENV_SB3_DQN-EVAL-Eplus-demo-v1-episodes-5_2023-05-12_08:14_MainThread_ROOT INFO:EnergyPlus episode completed successfully. \n",
      "[2023-05-12 08:15:27,183] EPLUS_ENV_SB3_DQN-EVAL-Eplus-demo-v1-episodes-5_2023-05-12_08:14_MainThread_ROOT INFO:Creating new EnergyPlus simulation episode...\n",
      "[2023-05-12 08:15:27,290] EPLUS_ENV_SB3_DQN-EVAL-Eplus-demo-v1-episodes-5_2023-05-12_08:14_MainThread_ROOT INFO:EnergyPlus working directory is in /workspaces/sinergym/examples/Eplus-env-SB3_DQN-EVAL-Eplus-demo-v1-episodes-5_2023-05-12_08:14-res1/Eplus-env-sub_run3\n",
      "1 -1.086220480544118\n",
      "2 -2086.602852502675\n",
      "3 -4079.1010074076844\n",
      "4 -5321.559252155352\n",
      "5 -6212.967603350409\n",
      "6 -7061.889201514376\n",
      "7 -9975.010564483038\n",
      "8 -13161.926898133972\n",
      "9 -16248.192103347757\n",
      "10 -18914.582572792115\n",
      "11 -19633.31405308177\n",
      "12 -20641.527473727787\n",
      "1 -22739.165600883\n",
      "Episode  2 Mean reward:  -0.6489487899795421 Cumulative reward:  -22739.165600883\n",
      "[2023-05-12 08:15:42,491] EPLUS_ENV_SB3_DQN-EVAL-Eplus-demo-v1-episodes-5_2023-05-12_08:14_MainThread_ROOT INFO:EnergyPlus episode completed successfully. \n",
      "[2023-05-12 08:15:42,492] EPLUS_ENV_SB3_DQN-EVAL-Eplus-demo-v1-episodes-5_2023-05-12_08:14_MainThread_ROOT INFO:Creating new EnergyPlus simulation episode...\n",
      "[2023-05-12 08:15:42,591] EPLUS_ENV_SB3_DQN-EVAL-Eplus-demo-v1-episodes-5_2023-05-12_08:14_MainThread_ROOT INFO:EnergyPlus working directory is in /workspaces/sinergym/examples/Eplus-env-SB3_DQN-EVAL-Eplus-demo-v1-episodes-5_2023-05-12_08:14-res1/Eplus-env-sub_run4\n",
      "1 -1.086220480544118\n",
      "2 -2075.9566612818962\n",
      "3 -4067.4073127666775\n",
      "4 -5307.68900736728\n",
      "5 -6204.728209536624\n",
      "6 -7059.206716886347\n",
      "7 -9973.04946160921\n",
      "8 -13182.204925726766\n",
      "9 -16253.619734336347\n",
      "10 -18918.838998124498\n",
      "11 -19638.726596397864\n",
      "12 -20651.31967668895\n",
      "1 -22754.814947396026\n",
      "Episode  3 Mean reward:  -0.6493954037498897 Cumulative reward:  -22754.814947396026\n",
      "[2023-05-12 08:15:57,458] EPLUS_ENV_SB3_DQN-EVAL-Eplus-demo-v1-episodes-5_2023-05-12_08:14_MainThread_ROOT INFO:EnergyPlus episode completed successfully. \n",
      "[2023-05-12 08:15:57,459] EPLUS_ENV_SB3_DQN-EVAL-Eplus-demo-v1-episodes-5_2023-05-12_08:14_MainThread_ROOT INFO:Creating new EnergyPlus simulation episode...\n",
      "[2023-05-12 08:15:57,564] EPLUS_ENV_SB3_DQN-EVAL-Eplus-demo-v1-episodes-5_2023-05-12_08:14_MainThread_ROOT INFO:EnergyPlus working directory is in /workspaces/sinergym/examples/Eplus-env-SB3_DQN-EVAL-Eplus-demo-v1-episodes-5_2023-05-12_08:14-res1/Eplus-env-sub_run5\n",
      "1 -0.5795042490937325\n",
      "2 -2081.970921146011\n",
      "3 -4074.220668514262\n",
      "4 -5320.363749299106\n",
      "5 -6212.887733002913\n",
      "6 -7073.427755830539\n",
      "7 -9968.848101053769\n",
      "8 -13175.986483735562\n",
      "9 -16272.74395032035\n",
      "10 -18946.961454454715\n",
      "11 -19666.166885829865\n",
      "12 -20676.459104759146\n",
      "1 -22771.392149802334\n",
      "Episode  4 Mean reward:  -0.6498684974258712 Cumulative reward:  -22771.392149802334\n",
      "[2023-05-12 08:16:12,276] EPLUS_ENV_SB3_DQN-EVAL-Eplus-demo-v1-episodes-5_2023-05-12_08:14_MainThread_ROOT INFO:EnergyPlus simulation closed successfully. \n"
     ]
    }
   ],
   "source": [
    "for i in range(episodes):\n",
    "    obs, info = env.reset()\n",
    "    rewards = []\n",
    "    terminated = False\n",
    "    current_month = 0\n",
    "    while not terminated:\n",
    "        a, _ = model.predict(obs)\n",
    "        obs, reward, terminated, truncated, info = env.step(a)\n",
    "        rewards.append(reward)\n",
    "        if info['month'] != current_month:\n",
    "            current_month = info['month']\n",
    "            print(info['month'], sum(rewards))\n",
    "    print(\n",
    "        'Episode ',\n",
    "        i,\n",
    "        'Mean reward: ',\n",
    "        np.mean(rewards),\n",
    "        'Cumulative reward: ',\n",
    "        sum(rewards))\n",
    "env.close()"
   ]
  },
  {
   "attachments": {},
   "cell_type": "markdown",
   "metadata": {},
   "source": [
    "Finally, we register the evaluation data in wandb as an artifact to save it."
   ]
  },
  {
   "cell_type": "code",
   "execution_count": 22,
   "metadata": {},
   "outputs": [
    {
     "name": "stderr",
     "output_type": "stream",
     "text": [
      "\u001b[34m\u001b[1mwandb\u001b[0m: Adding directory to artifact (/workspaces/sinergym/examples/Eplus-env-SB3_DQN-EVAL-Eplus-demo-v1-episodes-5_2023-05-12_08:14-res1)... Done. 0.0s\n"
     ]
    },
    {
     "data": {
      "text/html": [
       "Waiting for W&B process to finish... <strong style=\"color:green\">(success).</strong>"
      ],
      "text/plain": [
       "<IPython.core.display.HTML object>"
      ]
     },
     "metadata": {},
     "output_type": "display_data"
    },
    {
     "data": {
      "text/html": [
       " View run <strong style=\"color:#cdcd00\">SB3_DQN-Eplus-demo-v1-episodes-4_2023-05-12_08:09_c5yme0bh</strong> at: <a href='https://wandb.ai/alex_ugr/sinergym_evaluations/runs/0ce5qs8f' target=\"_blank\">https://wandb.ai/alex_ugr/sinergym_evaluations/runs/0ce5qs8f</a><br/>Synced 5 W&B file(s), 0 media file(s), 101 artifact file(s) and 0 other file(s)"
      ],
      "text/plain": [
       "<IPython.core.display.HTML object>"
      ]
     },
     "metadata": {},
     "output_type": "display_data"
    },
    {
     "data": {
      "text/html": [
       "Find logs at: <code>./wandb/run-20230512_081443-0ce5qs8f/logs</code>"
      ],
      "text/plain": [
       "<IPython.core.display.HTML object>"
      ]
     },
     "metadata": {},
     "output_type": "display_data"
    }
   ],
   "source": [
    "artifact = wandb.Artifact(\n",
    "    name=\"evaluating\",\n",
    "    type=\"evaluation1\")\n",
    "artifact.add_dir(\n",
    "    env.simulator._env_working_dir_parent,\n",
    "    name='evaluation_output/')\n",
    "\n",
    "run.log_artifact(artifact)\n",
    "\n",
    "# wandb has finished\n",
    "run.finish()"
   ]
  },
  {
   "attachments": {},
   "cell_type": "markdown",
   "metadata": {},
   "source": [
    "We have the loaded model results in our local computer, but we can see the execution in *wandb* too:\n",
    "\n",
    "- If we check the wandb project list, we can see that sinergym_evaluations project has a new run:\n",
    "\n",
    "![wandb_project2](https://github.com/ugr-sail/sinergym/blob/main/images/wandb_project2.png?raw=true)\n",
    "\n",
    "\n",
    "- Hyperparameters tracked in the evaluation experiment and we can see the previous training artifact used to load the model:\n",
    "\n",
    "![wandb_evaluating_hyperparameters](https://github.com/ugr-sail/sinergym/blob/main/images/wandb_evaluating_hyperparameters.png?raw=true)\n",
    "\n",
    "\n",
    "\n",
    "- Artifact registered with Sinergym Output (and CSV files generated with the Logger Wrapper):\n",
    "  \n",
    "![wandb_evaluating_artifact](https://github.com/ugr-sail/sinergym/blob/main/images/wandb_evaluating_artifact.png?raw=true)"
   ]
  }
 ],
 "metadata": {
  "kernelspec": {
   "display_name": "Python 3",
   "language": "python",
   "name": "python3"
  },
  "language_info": {
   "codemirror_mode": {
    "name": "ipython",
    "version": 3
   },
   "file_extension": ".py",
   "mimetype": "text/x-python",
   "name": "python",
   "nbconvert_exporter": "python",
   "pygments_lexer": "ipython3",
   "version": "3.10.6"
  },
  "vscode": {
   "interpreter": {
    "hash": "916dbcbb3f70747c44a77c7bcd40155683ae19c65e1c03b4aa3499c5328201f1"
   }
  }
 },
 "nbformat": 4,
 "nbformat_minor": 0
}
